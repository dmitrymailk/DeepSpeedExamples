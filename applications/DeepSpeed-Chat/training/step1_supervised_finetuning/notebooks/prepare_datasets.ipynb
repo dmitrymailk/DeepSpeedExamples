{
 "cells": [
  {
   "cell_type": "code",
   "execution_count": null,
   "metadata": {},
   "outputs": [],
   "source": [
    "# https://huggingface.co/HuggingFaceH4\n"
   ]
  },
  {
   "cell_type": "code",
   "execution_count": null,
   "metadata": {},
   "outputs": [],
   "source": [
    "# https://github.com/yaodongC/awesome-instruction-dataset\n"
   ]
  },
  {
   "cell_type": "code",
   "execution_count": 1,
   "metadata": {},
   "outputs": [
    {
     "name": "stderr",
     "output_type": "stream",
     "text": [
      "/home/kosenko/miniconda3/lib/python3.10/site-packages/tqdm/auto.py:22: TqdmWarning: IProgress not found. Please update jupyter and ipywidgets. See https://ipywidgets.readthedocs.io/en/stable/user_install.html\n",
      "  from .autonotebook import tqdm as notebook_tqdm\n"
     ]
    }
   ],
   "source": [
    "from transformers import AutoModelForSeq2SeqLM, AutoTokenizer\n",
    "import torch\n",
    "from easynmt import EasyNMT\n",
    "from optimum.bettertransformer import BetterTransformer\n",
    "from datasets import load_from_disk, load_dataset\n",
    "import os\n",
    "import pandas as pd\n",
    "\n",
    "class Translator:\n",
    "    def __init__(self, \n",
    "        model_name: str,\n",
    "        device = 'cuda'\n",
    "    ):\n",
    "        self.model_name = model_name\n",
    "        self.device = device\n",
    "        self.model = None\n",
    "        self.tokenizer = None\n",
    "        self.init()\n",
    "    \n",
    "    def init(self):\n",
    "        print(\"Init model.\")\n",
    "        if self.model_name == \"facebook/nllb-200-3.3B\":\n",
    "            self.model = AutoModelForSeq2SeqLM.from_pretrained(\n",
    "                self.model_name, \n",
    "                use_auth_token=True,\n",
    "            )\n",
    "            self.model = BetterTransformer.transform(self.model)\n",
    "            self.model.eval()\n",
    "            self.model = torch.compile(self.model)\n",
    "            self.model = self.model.to(self.device)\n",
    "            self.tokenizer = AutoTokenizer.from_pretrained(\n",
    "                self.model_name,\n",
    "                use_auth_token=True,\n",
    "            )\n",
    "        elif self.model_name == \"facebook/wmt21-dense-24-wide-en-x\":\n",
    "            self.model = AutoModelForSeq2SeqLM.from_pretrained(\n",
    "                self.model_name, \n",
    "                use_auth_token=True,\n",
    "            )\n",
    "            self.model = BetterTransformer.transform(self.model)\n",
    "            self.model.eval()\n",
    "            self.model = torch.compile(self.model)\n",
    "            self.model = self.model.to(self.device)\n",
    "            self.tokenizer = AutoTokenizer.from_pretrained(\n",
    "                self.model_name,\n",
    "                use_auth_token=True,\n",
    "            )\n",
    "        elif self.model_name == \"opus-mt\":\n",
    "            self.model = EasyNMT(self.model_name)\n",
    "            \n",
    "        print(\"Model is initialized.\")\n",
    "    \n",
    "    def translate(self, text: str):\n",
    "        func_map = {\n",
    "            \"facebook/nllb-200-3.3B\": self.nllb_translate,\n",
    "            \"opus-mt\": self.opusmt_translate,\n",
    "            \"facebook/wmt21-dense-24-wide-en-x\": self.wmt21_translate\n",
    "        }\n",
    "        \n",
    "        with torch.no_grad():\n",
    "            return func_map[self.model_name](text)\n",
    "    \n",
    "    def __call__(self, text: str):\n",
    "        return self.translate(text=text)\n",
    "    \n",
    "    def nllb_translate(self, text: str):\n",
    "        inputs = self.tokenizer(text, return_tensors=\"pt\")\n",
    "        inputs = self.to_device(inputs=inputs)\n",
    "        translated_tokens = self.model.generate(\n",
    "            **inputs, \n",
    "            forced_bos_token_id=self.tokenizer.lang_code_to_id[\"rus_Cyrl\"],\n",
    "        )\n",
    "        return self.tokenizer.batch_decode(translated_tokens, skip_special_tokens=True)[0]\n",
    "    \n",
    "    def opusmt_translate(self, text: str):\n",
    "        return self.model.translate(\n",
    "            text,\n",
    "            source_lang=\"en\" ,\n",
    "            target_lang='ru'\n",
    "        )\n",
    "\n",
    "    def wmt21_translate(self, text):\n",
    "        inputs = self.tokenizer(text, return_tensors=\"pt\")\n",
    "        inputs = self.to_device(inputs=inputs)\n",
    "        translated_tokens = self.model.generate(\n",
    "            **inputs, \n",
    "            forced_bos_token_id=self.tokenizer.get_lang_id(\"ru\"),\n",
    "        )\n",
    "        return self.tokenizer.batch_decode(translated_tokens, skip_special_tokens=True)[0]\n",
    "    \n",
    "    def to_device(self, inputs):\n",
    "        for key in inputs.keys():\n",
    "            inputs[key] = inputs[key].to(self.device)\n",
    "        return inputs"
   ]
  },
  {
   "cell_type": "code",
   "execution_count": null,
   "metadata": {},
   "outputs": [],
   "source": [
    "EasyNMT(\"facebook/wmt21-dense-24-wide-en-x\")"
   ]
  },
  {
   "cell_type": "code",
   "execution_count": 7,
   "metadata": {},
   "outputs": [
    {
     "name": "stdout",
     "output_type": "stream",
     "text": [
      "Init model.\n",
      "Model is initialized.\n"
     ]
    }
   ],
   "source": [
    "# 2 min 40 sec - 50\n",
    "# model_name = \"facebook/nllb-200-3.3B\"\n",
    "# 6 min 5 sec - 50\n",
    "# model_name = \"facebook/wmt21-dense-24-wide-en-x\"\n",
    "# 45 sec - 50\n",
    "model_name = \"opus-mt\"\n",
    "device = torch.device(\"cuda:0\")\n",
    "translator = Translator(model_name=model_name, device=device)"
   ]
  },
  {
   "cell_type": "code",
   "execution_count": 8,
   "metadata": {},
   "outputs": [
    {
     "name": "stderr",
     "output_type": "stream",
     "text": [
      "/home/kosenko/miniconda3/lib/python3.10/site-packages/transformers/models/marian/tokenization_marian.py:194: UserWarning: Recommended: pip install sacremoses.\n",
      "  warnings.warn(\"Recommended: pip install sacremoses.\")\n",
      "/home/kosenko/miniconda3/lib/python3.10/site-packages/transformers/generation/utils.py:1336: UserWarning: Using `max_length`'s default (512) to control the generation length. This behaviour is deprecated and will be removed from the config in v5 of Transformers -- we recommend using `max_new_tokens` to control the maximum length of the generation.\n",
      "  warnings.warn(\n"
     ]
    },
    {
     "data": {
      "text/plain": [
       "'Приветствую мир'"
      ]
     },
     "execution_count": 8,
     "metadata": {},
     "output_type": "execute_result"
    }
   ],
   "source": [
    "translator(\"hello world\")"
   ]
  },
  {
   "attachments": {},
   "cell_type": "markdown",
   "metadata": {},
   "source": [
    "### databricks/databricks-dolly-15k"
   ]
  },
  {
   "cell_type": "code",
   "execution_count": 9,
   "metadata": {},
   "outputs": [
    {
     "name": "stderr",
     "output_type": "stream",
     "text": [
      "WARNING:datasets.builder:Found cached dataset json (/home/kosenko/.cache/huggingface/datasets/databricks___json/databricks--databricks-dolly-15k-aae1918f8081f1c6/0.0.0/fe5dd6ea2639a6df622901539cb550cf8797e5a6b2dd7af1cf934bed8e233e6e)\n",
      "100%|██████████| 1/1 [00:00<00:00, 642.41it/s]\n"
     ]
    },
    {
     "data": {
      "text/plain": [
       "DatasetDict({\n",
       "    train: Dataset({\n",
       "        features: ['instruction', 'context', 'response', 'category'],\n",
       "        num_rows: 15014\n",
       "    })\n",
       "})"
      ]
     },
     "execution_count": 9,
     "metadata": {},
     "output_type": "execute_result"
    }
   ],
   "source": [
    "data = load_dataset(\"databricks/databricks-dolly-15k\")\n",
    "data\n"
   ]
  },
  {
   "cell_type": "code",
   "execution_count": 10,
   "metadata": {},
   "outputs": [
    {
     "data": {
      "text/plain": [
       "{'instruction': 'When did Virgin Australia start operating?',\n",
       " 'context': \"Virgin Australia, the trading name of Virgin Australia Airlines Pty Ltd, is an Australian-based airline. It is the largest airline by fleet size to use the Virgin brand. It commenced services on 31 August 2000 as Virgin Blue, with two aircraft on a single route.[3] It suddenly found itself as a major airline in Australia's domestic market after the collapse of Ansett Australia in September 2001. The airline has since grown to directly serve 32 cities in Australia, from hubs in Brisbane, Melbourne and Sydney.[4]\",\n",
       " 'response': 'Virgin Australia commenced services on 31 August 2000 as Virgin Blue, with two aircraft on a single route.',\n",
       " 'category': 'closed_qa'}"
      ]
     },
     "execution_count": 10,
     "metadata": {},
     "output_type": "execute_result"
    }
   ],
   "source": [
    "data[\"train\"][0]\n"
   ]
  },
  {
   "cell_type": "code",
   "execution_count": null,
   "metadata": {},
   "outputs": [],
   "source": []
  },
  {
   "cell_type": "code",
   "execution_count": null,
   "metadata": {},
   "outputs": [],
   "source": [
    "base_folder = \"/home/kosenko/deepspeed/DeepSpeedExamples/applications/DeepSpeed-Chat/training/step1_supervised_finetuning/datasets/translations_examples/\"\n",
    "model_path = model_name.replace(\"/\", \"_\")\n",
    "save_path = f\"{base_folder}{model_path}.csv\"\n",
    "\n",
    "assert not os.path.isfile(save_path), f'File {model_path} exists'\n",
    "\n",
    "fields = [\"context\", \"instruction\", \"response\"]\n",
    "\n",
    "dataset_map = {item: [] for item in fields}\n",
    "for item in fields:\n",
    "    dataset_map[f'{item}_translated'] = []\n",
    "\n",
    "for i, example in enumerate(data[\"train\"]):\n",
    "    print(\"Progress \",i)\n",
    "    for field in fields:\n",
    "        print(f\"Field name: {field}\")\n",
    "        print(\"Original: \", example[field])\n",
    "        text = example[field]\n",
    "        translated = translator(text=text)\n",
    "        print(\"Translated: \", translated)\n",
    "        dataset_map[field].append(example[field])\n",
    "        dataset_map[f'{field}_translated'].append(translated)\n",
    "        print()\n",
    "    print(\"==\" * 100)\n",
    "\n",
    "    if i > 50:\n",
    "        break\n",
    "pd.DataFrame(data=dataset_map).to_csv(save_path, index=False)\n"
   ]
  },
  {
   "cell_type": "code",
   "execution_count": 18,
   "metadata": {},
   "outputs": [],
   "source": [
    "torch.multiprocessing.set_start_method('spawn', force=True)\n"
   ]
  },
  {
   "cell_type": "code",
   "execution_count": 19,
   "metadata": {},
   "outputs": [
    {
     "name": "stderr",
     "output_type": "stream",
     "text": [
      "                                                               \r"
     ]
    },
    {
     "data": {
      "text/html": [
       "<pre style=\"white-space:pre;overflow-x:auto;line-height:normal;font-family:Menlo,'DejaVu Sans Mono',consolas,'Courier New',monospace\"><span style=\"color: #ff0000; text-decoration-color: #ff0000; font-weight: bold\">RemoteTraceback: </span>\n",
       "<span style=\"color: #008000; text-decoration-color: #008000\">\"\"</span>\"\n",
       "Traceback <span style=\"font-weight: bold\">(</span>most recent call last<span style=\"font-weight: bold\">)</span>:\n",
       "  File <span style=\"color: #008000; text-decoration-color: #008000\">\"/home/kosenko/miniconda3/lib/python3.10/site-packages/multiprocess/pool.py\"</span>, line <span style=\"color: #008080; text-decoration-color: #008080; font-weight: bold\">125</span>, in worker\n",
       "    result = <span style=\"font-weight: bold\">(</span><span style=\"color: #00ff00; text-decoration-color: #00ff00; font-style: italic\">True</span>, <span style=\"color: #800080; text-decoration-color: #800080; font-weight: bold\">func</span><span style=\"font-weight: bold\">(</span>*args, **kwds<span style=\"font-weight: bold\">))</span>\n",
       "  File <span style=\"color: #008000; text-decoration-color: #008000\">\"/home/kosenko/miniconda3/lib/python3.10/site-packages/datasets/utils/py_utils.py\"</span>, line <span style=\"color: #008080; text-decoration-color: #008080; font-weight: bold\">1353</span>, in \n",
       "_write_generator_to_queue\n",
       "    for i, result in <span style=\"color: #800080; text-decoration-color: #800080; font-weight: bold\">enumerate</span><span style=\"font-weight: bold\">(</span><span style=\"color: #800080; text-decoration-color: #800080; font-weight: bold\">func</span><span style=\"font-weight: bold\">(</span>**kwargs<span style=\"font-weight: bold\">))</span>:\n",
       "  File <span style=\"color: #008000; text-decoration-color: #008000\">\"/home/kosenko/miniconda3/lib/python3.10/site-packages/datasets/arrow_dataset.py\"</span>, line <span style=\"color: #008080; text-decoration-color: #008080; font-weight: bold\">3358</span>, in _map_single\n",
       "    example = <span style=\"color: #800080; text-decoration-color: #800080; font-weight: bold\">apply_function_on_filtered_inputs</span><span style=\"font-weight: bold\">(</span>example, i, <span style=\"color: #808000; text-decoration-color: #808000\">offset</span>=<span style=\"color: #800080; text-decoration-color: #800080\">offset</span><span style=\"font-weight: bold\">)</span>\n",
       "  File <span style=\"color: #008000; text-decoration-color: #008000\">\"/home/kosenko/miniconda3/lib/python3.10/site-packages/datasets/arrow_dataset.py\"</span>, line <span style=\"color: #008080; text-decoration-color: #008080; font-weight: bold\">3261</span>, in \n",
       "apply_function_on_filtered_inputs\n",
       "    processed_inputs = <span style=\"color: #800080; text-decoration-color: #800080; font-weight: bold\">function</span><span style=\"font-weight: bold\">(</span>*fn_args, *additional_args, **fn_kwargs<span style=\"font-weight: bold\">)</span>\n",
       "  File <span style=\"color: #008000; text-decoration-color: #008000\">\"/tmp/ipykernel_1591660/757891258.py\"</span>, line <span style=\"color: #008080; text-decoration-color: #008080; font-weight: bold\">4</span>, in test\n",
       "    translated = <span style=\"color: #800080; text-decoration-color: #800080; font-weight: bold\">translator</span><span style=\"font-weight: bold\">(</span><span style=\"color: #808000; text-decoration-color: #808000\">text</span>=<span style=\"color: #800080; text-decoration-color: #800080\">text</span><span style=\"font-weight: bold\">)</span>\n",
       "  File <span style=\"color: #008000; text-decoration-color: #008000\">\"/tmp/ipykernel_1591660/2459331615.py\"</span>, line <span style=\"color: #008080; text-decoration-color: #008080; font-weight: bold\">64</span>, in __call__\n",
       "    return <span style=\"color: #800080; text-decoration-color: #800080; font-weight: bold\">self.translate</span><span style=\"font-weight: bold\">(</span><span style=\"color: #808000; text-decoration-color: #808000\">text</span>=<span style=\"color: #800080; text-decoration-color: #800080\">text</span><span style=\"font-weight: bold\">)</span>\n",
       "  File <span style=\"color: #008000; text-decoration-color: #008000\">\"/tmp/ipykernel_1591660/2459331615.py\"</span>, line <span style=\"color: #008080; text-decoration-color: #008080; font-weight: bold\">61</span>, in translate\n",
       "    return func_map<span style=\"font-weight: bold\">[</span>self.model_name<span style=\"font-weight: bold\">](</span>text<span style=\"font-weight: bold\">)</span>\n",
       "  File <span style=\"color: #008000; text-decoration-color: #008000\">\"/tmp/ipykernel_1591660/2459331615.py\"</span>, line <span style=\"color: #008080; text-decoration-color: #008080; font-weight: bold\">76</span>, in opusmt_translate\n",
       "    return <span style=\"color: #800080; text-decoration-color: #800080; font-weight: bold\">self.model.translate</span><span style=\"font-weight: bold\">(</span>\n",
       "  File <span style=\"color: #008000; text-decoration-color: #008000\">\"/home/kosenko/miniconda3/lib/python3.10/site-packages/easynmt/EasyNMT.py\"</span>, line <span style=\"color: #008080; text-decoration-color: #008080; font-weight: bold\">181</span>, in translate\n",
       "    translated_sentences = <span style=\"color: #800080; text-decoration-color: #800080; font-weight: bold\">self.translate_sentences</span><span style=\"font-weight: bold\">(</span>splitted_sentences, <span style=\"color: #808000; text-decoration-color: #808000\">target_lang</span>=<span style=\"color: #800080; text-decoration-color: #800080\">target_lang</span>, \n",
       "<span style=\"color: #808000; text-decoration-color: #808000\">source_lang</span>=<span style=\"color: #800080; text-decoration-color: #800080\">source_lang</span>, <span style=\"color: #808000; text-decoration-color: #808000\">show_progress_bar</span>=<span style=\"color: #800080; text-decoration-color: #800080\">show_progress_bar</span>, <span style=\"color: #808000; text-decoration-color: #808000\">beam_size</span>=<span style=\"color: #800080; text-decoration-color: #800080\">beam_size</span>, <span style=\"color: #808000; text-decoration-color: #808000\">batch_size</span>=<span style=\"color: #800080; text-decoration-color: #800080\">batch_size</span>, **kwargs<span style=\"font-weight: bold\">)</span>\n",
       "  File <span style=\"color: #008000; text-decoration-color: #008000\">\"/home/kosenko/miniconda3/lib/python3.10/site-packages/easynmt/EasyNMT.py\"</span>, line <span style=\"color: #008080; text-decoration-color: #008080; font-weight: bold\">278</span>, in translate_sentences\n",
       "    <span style=\"color: #800080; text-decoration-color: #800080; font-weight: bold\">output.extend</span><span style=\"font-weight: bold\">(</span><span style=\"color: #800080; text-decoration-color: #800080; font-weight: bold\">self.translator.translate_sentences</span><span style=\"font-weight: bold\">(</span>sentences_sorted<span style=\"font-weight: bold\">[</span>start_idx:start_idx+batch_size<span style=\"font-weight: bold\">]</span>, \n",
       "<span style=\"color: #808000; text-decoration-color: #808000\">source_lang</span>=<span style=\"color: #800080; text-decoration-color: #800080\">source_lang</span>, <span style=\"color: #808000; text-decoration-color: #808000\">target_lang</span>=<span style=\"color: #800080; text-decoration-color: #800080\">target_lang</span>, <span style=\"color: #808000; text-decoration-color: #808000\">beam_size</span>=<span style=\"color: #800080; text-decoration-color: #800080\">beam_size</span>, <span style=\"color: #808000; text-decoration-color: #808000\">device</span>=<span style=\"color: #800080; text-decoration-color: #800080\">self</span>.device, **kwargs<span style=\"font-weight: bold\">))</span>\n",
       "  File <span style=\"color: #008000; text-decoration-color: #008000\">\"/home/kosenko/miniconda3/lib/python3.10/site-packages/easynmt/models/OpusMT.py\"</span>, line <span style=\"color: #008080; text-decoration-color: #008080; font-weight: bold\">41</span>, in \n",
       "translate_sentences\n",
       "    <span style=\"color: #800080; text-decoration-color: #800080; font-weight: bold\">model.to</span><span style=\"font-weight: bold\">(</span>device<span style=\"font-weight: bold\">)</span>\n",
       "  File <span style=\"color: #008000; text-decoration-color: #008000\">\"/home/kosenko/miniconda3/lib/python3.10/site-packages/transformers/modeling_utils.py\"</span>, line <span style=\"color: #008080; text-decoration-color: #008080; font-weight: bold\">1896</span>, in to\n",
       "    return <span style=\"color: #800080; text-decoration-color: #800080; font-weight: bold\">super</span><span style=\"font-weight: bold\">()</span><span style=\"color: #800080; text-decoration-color: #800080; font-weight: bold\">.to</span><span style=\"font-weight: bold\">(</span>*args, **kwargs<span style=\"font-weight: bold\">)</span>\n",
       "  File <span style=\"color: #008000; text-decoration-color: #008000\">\"/home/kosenko/miniconda3/lib/python3.10/site-packages/torch/nn/modules/module.py\"</span>, line <span style=\"color: #008080; text-decoration-color: #008080; font-weight: bold\">1145</span>, in to\n",
       "    return <span style=\"color: #800080; text-decoration-color: #800080; font-weight: bold\">self._apply</span><span style=\"font-weight: bold\">(</span>convert<span style=\"font-weight: bold\">)</span>\n",
       "  File <span style=\"color: #008000; text-decoration-color: #008000\">\"/home/kosenko/miniconda3/lib/python3.10/site-packages/torch/nn/modules/module.py\"</span>, line <span style=\"color: #008080; text-decoration-color: #008080; font-weight: bold\">797</span>, in _apply\n",
       "    <span style=\"color: #800080; text-decoration-color: #800080; font-weight: bold\">module._apply</span><span style=\"font-weight: bold\">(</span>fn<span style=\"font-weight: bold\">)</span>\n",
       "  File <span style=\"color: #008000; text-decoration-color: #008000\">\"/home/kosenko/miniconda3/lib/python3.10/site-packages/torch/nn/modules/module.py\"</span>, line <span style=\"color: #008080; text-decoration-color: #008080; font-weight: bold\">797</span>, in _apply\n",
       "    <span style=\"color: #800080; text-decoration-color: #800080; font-weight: bold\">module._apply</span><span style=\"font-weight: bold\">(</span>fn<span style=\"font-weight: bold\">)</span>\n",
       "  File <span style=\"color: #008000; text-decoration-color: #008000\">\"/home/kosenko/miniconda3/lib/python3.10/site-packages/torch/nn/modules/module.py\"</span>, line <span style=\"color: #008080; text-decoration-color: #008080; font-weight: bold\">820</span>, in _apply\n",
       "    param_applied = <span style=\"color: #800080; text-decoration-color: #800080; font-weight: bold\">fn</span><span style=\"font-weight: bold\">(</span>param<span style=\"font-weight: bold\">)</span>\n",
       "  File <span style=\"color: #008000; text-decoration-color: #008000\">\"/home/kosenko/miniconda3/lib/python3.10/site-packages/torch/nn/modules/module.py\"</span>, line <span style=\"color: #008080; text-decoration-color: #008080; font-weight: bold\">1143</span>, in convert\n",
       "    return <span style=\"color: #800080; text-decoration-color: #800080; font-weight: bold\">t.to</span><span style=\"font-weight: bold\">(</span>device, dtype if <span style=\"color: #800080; text-decoration-color: #800080; font-weight: bold\">t.is_floating_point</span><span style=\"font-weight: bold\">()</span> or <span style=\"color: #800080; text-decoration-color: #800080; font-weight: bold\">t.is_complex</span><span style=\"font-weight: bold\">()</span> else <span style=\"color: #800080; text-decoration-color: #800080; font-style: italic\">None</span>, non_blocking<span style=\"font-weight: bold\">)</span>\n",
       "  File <span style=\"color: #008000; text-decoration-color: #008000\">\"/home/kosenko/miniconda3/lib/python3.10/site-packages/torch/cuda/__init__.py\"</span>, line <span style=\"color: #008080; text-decoration-color: #008080; font-weight: bold\">235</span>, in _lazy_init\n",
       "    raise <span style=\"color: #800080; text-decoration-color: #800080; font-weight: bold\">RuntimeError</span><span style=\"font-weight: bold\">(</span>\n",
       "RuntimeError: Cannot re-initialize CUDA in forked subprocess. To use CUDA with multiprocessing, you must use the \n",
       "<span style=\"color: #008000; text-decoration-color: #008000\">'spawn'</span> start method\n",
       "<span style=\"color: #008000; text-decoration-color: #008000\">\"\"</span>\"\n",
       "\n",
       "<span style=\"font-style: italic\">The above exception was the direct cause of the following exception:</span>\n",
       "\n",
       "<span style=\"color: #800000; text-decoration-color: #800000\">╭─────────────────────────────── </span><span style=\"color: #800000; text-decoration-color: #800000; font-weight: bold\">Traceback </span><span style=\"color: #bf7f7f; text-decoration-color: #bf7f7f; font-weight: bold\">(most recent call last)</span><span style=\"color: #800000; text-decoration-color: #800000\"> ────────────────────────────────╮</span>\n",
       "<span style=\"color: #800000; text-decoration-color: #800000\">│</span> in <span style=\"color: #00ff00; text-decoration-color: #00ff00\">&lt;module&gt;</span>:<span style=\"color: #0000ff; text-decoration-color: #0000ff\">7</span>                                                                                    <span style=\"color: #800000; text-decoration-color: #800000\">│</span>\n",
       "<span style=\"color: #800000; text-decoration-color: #800000\">│</span>                                                                                                  <span style=\"color: #800000; text-decoration-color: #800000\">│</span>\n",
       "<span style=\"color: #800000; text-decoration-color: #800000\">│</span>   <span style=\"color: #7f7f7f; text-decoration-color: #7f7f7f\">4 │   │   </span>translated = translator(text=text)                                                   <span style=\"color: #800000; text-decoration-color: #800000\">│</span>\n",
       "<span style=\"color: #800000; text-decoration-color: #800000\">│</span>   <span style=\"color: #7f7f7f; text-decoration-color: #7f7f7f\">5 │   │   </span>example[<span style=\"color: #808000; text-decoration-color: #808000\">f'{</span>field<span style=\"color: #808000; text-decoration-color: #808000\">}_translated'</span>] = translated                                          <span style=\"color: #800000; text-decoration-color: #800000\">│</span>\n",
       "<span style=\"color: #800000; text-decoration-color: #800000\">│</span>   <span style=\"color: #7f7f7f; text-decoration-color: #7f7f7f\">6 </span>                                                                                             <span style=\"color: #800000; text-decoration-color: #800000\">│</span>\n",
       "<span style=\"color: #800000; text-decoration-color: #800000\">│</span> <span style=\"color: #800000; text-decoration-color: #800000\">❱ </span>7 data[<span style=\"color: #808000; text-decoration-color: #808000\">\"train\"</span>].select(<span style=\"color: #00ffff; text-decoration-color: #00ffff\">range</span>(<span style=\"color: #0000ff; text-decoration-color: #0000ff\">50</span>)).map(test, num_proc=<span style=\"color: #0000ff; text-decoration-color: #0000ff\">3</span>)                                        <span style=\"color: #800000; text-decoration-color: #800000\">│</span>\n",
       "<span style=\"color: #800000; text-decoration-color: #800000\">│</span>   <span style=\"color: #7f7f7f; text-decoration-color: #7f7f7f\">8 </span>                                                                                             <span style=\"color: #800000; text-decoration-color: #800000\">│</span>\n",
       "<span style=\"color: #800000; text-decoration-color: #800000\">│</span>                                                                                                  <span style=\"color: #800000; text-decoration-color: #800000\">│</span>\n",
       "<span style=\"color: #800000; text-decoration-color: #800000\">│</span> <span style=\"color: #bfbf7f; text-decoration-color: #bfbf7f\">/home/kosenko/miniconda3/lib/python3.10/site-packages/datasets/</span><span style=\"color: #808000; text-decoration-color: #808000; font-weight: bold\">arrow_dataset.py</span>:<span style=\"color: #0000ff; text-decoration-color: #0000ff\">563</span> in <span style=\"color: #00ff00; text-decoration-color: #00ff00\">wrapper</span>   <span style=\"color: #800000; text-decoration-color: #800000\">│</span>\n",
       "<span style=\"color: #800000; text-decoration-color: #800000\">│</span>                                                                                                  <span style=\"color: #800000; text-decoration-color: #800000\">│</span>\n",
       "<span style=\"color: #800000; text-decoration-color: #800000\">│</span>   <span style=\"color: #7f7f7f; text-decoration-color: #7f7f7f\"> 560 │   │   </span><span style=\"color: #0000ff; text-decoration-color: #0000ff\">else</span>:                                                                             <span style=\"color: #800000; text-decoration-color: #800000\">│</span>\n",
       "<span style=\"color: #800000; text-decoration-color: #800000\">│</span>   <span style=\"color: #7f7f7f; text-decoration-color: #7f7f7f\"> 561 │   │   │   </span><span style=\"color: #00ffff; text-decoration-color: #00ffff\">self</span>: <span style=\"color: #808000; text-decoration-color: #808000\">\"Dataset\"</span> = kwargs.pop(<span style=\"color: #808000; text-decoration-color: #808000\">\"self\"</span>)                                          <span style=\"color: #800000; text-decoration-color: #800000\">│</span>\n",
       "<span style=\"color: #800000; text-decoration-color: #800000\">│</span>   <span style=\"color: #7f7f7f; text-decoration-color: #7f7f7f\"> 562 │   │   # apply actual function</span>                                                           <span style=\"color: #800000; text-decoration-color: #800000\">│</span>\n",
       "<span style=\"color: #800000; text-decoration-color: #800000\">│</span> <span style=\"color: #800000; text-decoration-color: #800000\">❱ </span> 563 <span style=\"color: #7f7f7f; text-decoration-color: #7f7f7f\">│   │   </span>out: Union[<span style=\"color: #808000; text-decoration-color: #808000\">\"Dataset\"</span>, <span style=\"color: #808000; text-decoration-color: #808000\">\"DatasetDict\"</span>] = func(<span style=\"color: #00ffff; text-decoration-color: #00ffff\">self</span>, *args, **kwargs)                <span style=\"color: #800000; text-decoration-color: #800000\">│</span>\n",
       "<span style=\"color: #800000; text-decoration-color: #800000\">│</span>   <span style=\"color: #7f7f7f; text-decoration-color: #7f7f7f\"> 564 │   │   </span>datasets: List[<span style=\"color: #808000; text-decoration-color: #808000\">\"Dataset\"</span>] = <span style=\"color: #00ffff; text-decoration-color: #00ffff\">list</span>(out.values()) <span style=\"color: #0000ff; text-decoration-color: #0000ff\">if</span> <span style=\"color: #00ffff; text-decoration-color: #00ffff\">isinstance</span>(out, <span style=\"color: #00ffff; text-decoration-color: #00ffff\">dict</span>) <span style=\"color: #0000ff; text-decoration-color: #0000ff\">else</span> [ou  <span style=\"color: #800000; text-decoration-color: #800000\">│</span>\n",
       "<span style=\"color: #800000; text-decoration-color: #800000\">│</span>   <span style=\"color: #7f7f7f; text-decoration-color: #7f7f7f\"> 565 │   │   </span><span style=\"color: #0000ff; text-decoration-color: #0000ff\">for</span> dataset <span style=\"color: #ff00ff; text-decoration-color: #ff00ff\">in</span> datasets:                                                          <span style=\"color: #800000; text-decoration-color: #800000\">│</span>\n",
       "<span style=\"color: #800000; text-decoration-color: #800000\">│</span>   <span style=\"color: #7f7f7f; text-decoration-color: #7f7f7f\"> 566 │   │   │   # Remove task templates if a column mapping of the template is no longer val</span>  <span style=\"color: #800000; text-decoration-color: #800000\">│</span>\n",
       "<span style=\"color: #800000; text-decoration-color: #800000\">│</span>                                                                                                  <span style=\"color: #800000; text-decoration-color: #800000\">│</span>\n",
       "<span style=\"color: #800000; text-decoration-color: #800000\">│</span> <span style=\"color: #bfbf7f; text-decoration-color: #bfbf7f\">/home/kosenko/miniconda3/lib/python3.10/site-packages/datasets/</span><span style=\"color: #808000; text-decoration-color: #808000; font-weight: bold\">arrow_dataset.py</span>:<span style=\"color: #0000ff; text-decoration-color: #0000ff\">528</span> in <span style=\"color: #00ff00; text-decoration-color: #00ff00\">wrapper</span>   <span style=\"color: #800000; text-decoration-color: #800000\">│</span>\n",
       "<span style=\"color: #800000; text-decoration-color: #800000\">│</span>                                                                                                  <span style=\"color: #800000; text-decoration-color: #800000\">│</span>\n",
       "<span style=\"color: #800000; text-decoration-color: #800000\">│</span>   <span style=\"color: #7f7f7f; text-decoration-color: #7f7f7f\"> 525 │   │   │   </span><span style=\"color: #808000; text-decoration-color: #808000\">\"output_all_columns\"</span>: <span style=\"color: #00ffff; text-decoration-color: #00ffff\">self</span>._output_all_columns,                               <span style=\"color: #800000; text-decoration-color: #800000\">│</span>\n",
       "<span style=\"color: #800000; text-decoration-color: #800000\">│</span>   <span style=\"color: #7f7f7f; text-decoration-color: #7f7f7f\"> 526 │   │   </span>}                                                                                 <span style=\"color: #800000; text-decoration-color: #800000\">│</span>\n",
       "<span style=\"color: #800000; text-decoration-color: #800000\">│</span>   <span style=\"color: #7f7f7f; text-decoration-color: #7f7f7f\"> 527 │   │   # apply actual function</span>                                                           <span style=\"color: #800000; text-decoration-color: #800000\">│</span>\n",
       "<span style=\"color: #800000; text-decoration-color: #800000\">│</span> <span style=\"color: #800000; text-decoration-color: #800000\">❱ </span> 528 <span style=\"color: #7f7f7f; text-decoration-color: #7f7f7f\">│   │   </span>out: Union[<span style=\"color: #808000; text-decoration-color: #808000\">\"Dataset\"</span>, <span style=\"color: #808000; text-decoration-color: #808000\">\"DatasetDict\"</span>] = func(<span style=\"color: #00ffff; text-decoration-color: #00ffff\">self</span>, *args, **kwargs)                <span style=\"color: #800000; text-decoration-color: #800000\">│</span>\n",
       "<span style=\"color: #800000; text-decoration-color: #800000\">│</span>   <span style=\"color: #7f7f7f; text-decoration-color: #7f7f7f\"> 529 │   │   </span>datasets: List[<span style=\"color: #808000; text-decoration-color: #808000\">\"Dataset\"</span>] = <span style=\"color: #00ffff; text-decoration-color: #00ffff\">list</span>(out.values()) <span style=\"color: #0000ff; text-decoration-color: #0000ff\">if</span> <span style=\"color: #00ffff; text-decoration-color: #00ffff\">isinstance</span>(out, <span style=\"color: #00ffff; text-decoration-color: #00ffff\">dict</span>) <span style=\"color: #0000ff; text-decoration-color: #0000ff\">else</span> [ou  <span style=\"color: #800000; text-decoration-color: #800000\">│</span>\n",
       "<span style=\"color: #800000; text-decoration-color: #800000\">│</span>   <span style=\"color: #7f7f7f; text-decoration-color: #7f7f7f\"> 530 │   │   # re-apply format to the output</span>                                                   <span style=\"color: #800000; text-decoration-color: #800000\">│</span>\n",
       "<span style=\"color: #800000; text-decoration-color: #800000\">│</span>   <span style=\"color: #7f7f7f; text-decoration-color: #7f7f7f\"> 531 │   │   </span><span style=\"color: #0000ff; text-decoration-color: #0000ff\">for</span> dataset <span style=\"color: #ff00ff; text-decoration-color: #ff00ff\">in</span> datasets:                                                          <span style=\"color: #800000; text-decoration-color: #800000\">│</span>\n",
       "<span style=\"color: #800000; text-decoration-color: #800000\">│</span>                                                                                                  <span style=\"color: #800000; text-decoration-color: #800000\">│</span>\n",
       "<span style=\"color: #800000; text-decoration-color: #800000\">│</span> <span style=\"color: #bfbf7f; text-decoration-color: #bfbf7f\">/home/kosenko/miniconda3/lib/python3.10/site-packages/datasets/</span><span style=\"color: #808000; text-decoration-color: #808000; font-weight: bold\">arrow_dataset.py</span>:<span style=\"color: #0000ff; text-decoration-color: #0000ff\">3097</span> in <span style=\"color: #00ff00; text-decoration-color: #00ff00\">map</span>      <span style=\"color: #800000; text-decoration-color: #800000\">│</span>\n",
       "<span style=\"color: #800000; text-decoration-color: #800000\">│</span>                                                                                                  <span style=\"color: #800000; text-decoration-color: #800000\">│</span>\n",
       "<span style=\"color: #800000; text-decoration-color: #800000\">│</span>   <span style=\"color: #7f7f7f; text-decoration-color: #7f7f7f\">3094 │   │   │   │   │   │   </span>leave=<span style=\"color: #0000ff; text-decoration-color: #0000ff\">False</span>,                                                      <span style=\"color: #800000; text-decoration-color: #800000\">│</span>\n",
       "<span style=\"color: #800000; text-decoration-color: #800000\">│</span>   <span style=\"color: #7f7f7f; text-decoration-color: #7f7f7f\">3095 │   │   │   │   │   │   </span>desc=(desc <span style=\"color: #ff00ff; text-decoration-color: #ff00ff\">or</span> <span style=\"color: #808000; text-decoration-color: #808000\">\"Map\"</span>) + <span style=\"color: #808000; text-decoration-color: #808000\">f\" (num_proc={</span>num_proc<span style=\"color: #808000; text-decoration-color: #808000\">})\"</span>,                 <span style=\"color: #800000; text-decoration-color: #800000\">│</span>\n",
       "<span style=\"color: #800000; text-decoration-color: #800000\">│</span>   <span style=\"color: #7f7f7f; text-decoration-color: #7f7f7f\">3096 │   │   │   │   │   </span>) <span style=\"color: #0000ff; text-decoration-color: #0000ff\">as</span> pbar:                                                            <span style=\"color: #800000; text-decoration-color: #800000\">│</span>\n",
       "<span style=\"color: #800000; text-decoration-color: #800000\">│</span> <span style=\"color: #800000; text-decoration-color: #800000\">❱ </span>3097 <span style=\"color: #7f7f7f; text-decoration-color: #7f7f7f\">│   │   │   │   │   │   </span><span style=\"color: #0000ff; text-decoration-color: #0000ff\">for</span> rank, done, content <span style=\"color: #ff00ff; text-decoration-color: #ff00ff\">in</span> iflatmap_unordered(                    <span style=\"color: #800000; text-decoration-color: #800000\">│</span>\n",
       "<span style=\"color: #800000; text-decoration-color: #800000\">│</span>   <span style=\"color: #7f7f7f; text-decoration-color: #7f7f7f\">3098 │   │   │   │   │   │   │   </span>pool, Dataset._map_single, kwargs_iterable=kwargs_per_job     <span style=\"color: #800000; text-decoration-color: #800000\">│</span>\n",
       "<span style=\"color: #800000; text-decoration-color: #800000\">│</span>   <span style=\"color: #7f7f7f; text-decoration-color: #7f7f7f\">3099 │   │   │   │   │   │   </span>):                                                                <span style=\"color: #800000; text-decoration-color: #800000\">│</span>\n",
       "<span style=\"color: #800000; text-decoration-color: #800000\">│</span>   <span style=\"color: #7f7f7f; text-decoration-color: #7f7f7f\">3100 │   │   │   │   │   │   │   </span><span style=\"color: #0000ff; text-decoration-color: #0000ff\">if</span> done:                                                      <span style=\"color: #800000; text-decoration-color: #800000\">│</span>\n",
       "<span style=\"color: #800000; text-decoration-color: #800000\">│</span>                                                                                                  <span style=\"color: #800000; text-decoration-color: #800000\">│</span>\n",
       "<span style=\"color: #800000; text-decoration-color: #800000\">│</span> <span style=\"color: #bfbf7f; text-decoration-color: #bfbf7f\">/home/kosenko/miniconda3/lib/python3.10/site-packages/datasets/utils/</span><span style=\"color: #808000; text-decoration-color: #808000; font-weight: bold\">py_utils.py</span>:<span style=\"color: #0000ff; text-decoration-color: #0000ff\">1377</span> in         <span style=\"color: #800000; text-decoration-color: #800000\">│</span>\n",
       "<span style=\"color: #800000; text-decoration-color: #800000\">│</span> <span style=\"color: #00ff00; text-decoration-color: #00ff00\">iflatmap_unordered</span>                                                                               <span style=\"color: #800000; text-decoration-color: #800000\">│</span>\n",
       "<span style=\"color: #800000; text-decoration-color: #800000\">│</span>                                                                                                  <span style=\"color: #800000; text-decoration-color: #800000\">│</span>\n",
       "<span style=\"color: #800000; text-decoration-color: #800000\">│</span>   <span style=\"color: #7f7f7f; text-decoration-color: #7f7f7f\">1374 │   │   │   │   </span><span style=\"color: #0000ff; text-decoration-color: #0000ff\">if</span> <span style=\"color: #00ffff; text-decoration-color: #00ffff\">all</span>(async_result.ready() <span style=\"color: #0000ff; text-decoration-color: #0000ff\">for</span> async_result <span style=\"color: #ff00ff; text-decoration-color: #ff00ff\">in</span> async_results) <span style=\"color: #ff00ff; text-decoration-color: #ff00ff\">and</span> queue  <span style=\"color: #800000; text-decoration-color: #800000\">│</span>\n",
       "<span style=\"color: #800000; text-decoration-color: #800000\">│</span>   <span style=\"color: #7f7f7f; text-decoration-color: #7f7f7f\">1375 │   │   │   │   │   </span><span style=\"color: #0000ff; text-decoration-color: #0000ff\">break</span>                                                                 <span style=\"color: #800000; text-decoration-color: #800000\">│</span>\n",
       "<span style=\"color: #800000; text-decoration-color: #800000\">│</span>   <span style=\"color: #7f7f7f; text-decoration-color: #7f7f7f\">1376 │   │   # we get the result in case there's an error to raise</span>                             <span style=\"color: #800000; text-decoration-color: #800000\">│</span>\n",
       "<span style=\"color: #800000; text-decoration-color: #800000\">│</span> <span style=\"color: #800000; text-decoration-color: #800000\">❱ </span>1377 <span style=\"color: #7f7f7f; text-decoration-color: #7f7f7f\">│   │   </span>[async_result.get() <span style=\"color: #0000ff; text-decoration-color: #0000ff\">for</span> async_result <span style=\"color: #ff00ff; text-decoration-color: #ff00ff\">in</span> async_results]                            <span style=\"color: #800000; text-decoration-color: #800000\">│</span>\n",
       "<span style=\"color: #800000; text-decoration-color: #800000\">│</span>   <span style=\"color: #7f7f7f; text-decoration-color: #7f7f7f\">1378 </span>                                                                                          <span style=\"color: #800000; text-decoration-color: #800000\">│</span>\n",
       "<span style=\"color: #800000; text-decoration-color: #800000\">│</span>                                                                                                  <span style=\"color: #800000; text-decoration-color: #800000\">│</span>\n",
       "<span style=\"color: #800000; text-decoration-color: #800000\">│</span> <span style=\"color: #bfbf7f; text-decoration-color: #bfbf7f\">/home/kosenko/miniconda3/lib/python3.10/site-packages/datasets/utils/</span><span style=\"color: #808000; text-decoration-color: #808000; font-weight: bold\">py_utils.py</span>:<span style=\"color: #0000ff; text-decoration-color: #0000ff\">1377</span> in         <span style=\"color: #800000; text-decoration-color: #800000\">│</span>\n",
       "<span style=\"color: #800000; text-decoration-color: #800000\">│</span> <span style=\"color: #00ff00; text-decoration-color: #00ff00\">&lt;listcomp&gt;</span>                                                                                       <span style=\"color: #800000; text-decoration-color: #800000\">│</span>\n",
       "<span style=\"color: #800000; text-decoration-color: #800000\">│</span>                                                                                                  <span style=\"color: #800000; text-decoration-color: #800000\">│</span>\n",
       "<span style=\"color: #800000; text-decoration-color: #800000\">│</span>   <span style=\"color: #7f7f7f; text-decoration-color: #7f7f7f\">1374 │   │   │   │   </span><span style=\"color: #0000ff; text-decoration-color: #0000ff\">if</span> <span style=\"color: #00ffff; text-decoration-color: #00ffff\">all</span>(async_result.ready() <span style=\"color: #0000ff; text-decoration-color: #0000ff\">for</span> async_result <span style=\"color: #ff00ff; text-decoration-color: #ff00ff\">in</span> async_results) <span style=\"color: #ff00ff; text-decoration-color: #ff00ff\">and</span> queue  <span style=\"color: #800000; text-decoration-color: #800000\">│</span>\n",
       "<span style=\"color: #800000; text-decoration-color: #800000\">│</span>   <span style=\"color: #7f7f7f; text-decoration-color: #7f7f7f\">1375 │   │   │   │   │   </span><span style=\"color: #0000ff; text-decoration-color: #0000ff\">break</span>                                                                 <span style=\"color: #800000; text-decoration-color: #800000\">│</span>\n",
       "<span style=\"color: #800000; text-decoration-color: #800000\">│</span>   <span style=\"color: #7f7f7f; text-decoration-color: #7f7f7f\">1376 │   │   # we get the result in case there's an error to raise</span>                             <span style=\"color: #800000; text-decoration-color: #800000\">│</span>\n",
       "<span style=\"color: #800000; text-decoration-color: #800000\">│</span> <span style=\"color: #800000; text-decoration-color: #800000\">❱ </span>1377 <span style=\"color: #7f7f7f; text-decoration-color: #7f7f7f\">│   │   </span>[async_result.get() <span style=\"color: #0000ff; text-decoration-color: #0000ff\">for</span> async_result <span style=\"color: #ff00ff; text-decoration-color: #ff00ff\">in</span> async_results]                            <span style=\"color: #800000; text-decoration-color: #800000\">│</span>\n",
       "<span style=\"color: #800000; text-decoration-color: #800000\">│</span>   <span style=\"color: #7f7f7f; text-decoration-color: #7f7f7f\">1378 </span>                                                                                          <span style=\"color: #800000; text-decoration-color: #800000\">│</span>\n",
       "<span style=\"color: #800000; text-decoration-color: #800000\">│</span>                                                                                                  <span style=\"color: #800000; text-decoration-color: #800000\">│</span>\n",
       "<span style=\"color: #800000; text-decoration-color: #800000\">│</span> <span style=\"color: #bfbf7f; text-decoration-color: #bfbf7f\">/home/kosenko/miniconda3/lib/python3.10/site-packages/multiprocess/</span><span style=\"color: #808000; text-decoration-color: #808000; font-weight: bold\">pool.py</span>:<span style=\"color: #0000ff; text-decoration-color: #0000ff\">774</span> in <span style=\"color: #00ff00; text-decoration-color: #00ff00\">get</span>            <span style=\"color: #800000; text-decoration-color: #800000\">│</span>\n",
       "<span style=\"color: #800000; text-decoration-color: #800000\">│</span>                                                                                                  <span style=\"color: #800000; text-decoration-color: #800000\">│</span>\n",
       "<span style=\"color: #800000; text-decoration-color: #800000\">│</span>   <span style=\"color: #7f7f7f; text-decoration-color: #7f7f7f\">771 │   │   </span><span style=\"color: #0000ff; text-decoration-color: #0000ff\">if</span> <span style=\"color: #00ffff; text-decoration-color: #00ffff\">self</span>._success:                                                                  <span style=\"color: #800000; text-decoration-color: #800000\">│</span>\n",
       "<span style=\"color: #800000; text-decoration-color: #800000\">│</span>   <span style=\"color: #7f7f7f; text-decoration-color: #7f7f7f\">772 │   │   │   </span><span style=\"color: #0000ff; text-decoration-color: #0000ff\">return</span> <span style=\"color: #00ffff; text-decoration-color: #00ffff\">self</span>._value                                                             <span style=\"color: #800000; text-decoration-color: #800000\">│</span>\n",
       "<span style=\"color: #800000; text-decoration-color: #800000\">│</span>   <span style=\"color: #7f7f7f; text-decoration-color: #7f7f7f\">773 │   │   </span><span style=\"color: #0000ff; text-decoration-color: #0000ff\">else</span>:                                                                              <span style=\"color: #800000; text-decoration-color: #800000\">│</span>\n",
       "<span style=\"color: #800000; text-decoration-color: #800000\">│</span> <span style=\"color: #800000; text-decoration-color: #800000\">❱ </span>774 <span style=\"color: #7f7f7f; text-decoration-color: #7f7f7f\">│   │   │   </span><span style=\"color: #0000ff; text-decoration-color: #0000ff\">raise</span> <span style=\"color: #00ffff; text-decoration-color: #00ffff\">self</span>._value                                                              <span style=\"color: #800000; text-decoration-color: #800000\">│</span>\n",
       "<span style=\"color: #800000; text-decoration-color: #800000\">│</span>   <span style=\"color: #7f7f7f; text-decoration-color: #7f7f7f\">775 │   </span>                                                                                       <span style=\"color: #800000; text-decoration-color: #800000\">│</span>\n",
       "<span style=\"color: #800000; text-decoration-color: #800000\">│</span>   <span style=\"color: #7f7f7f; text-decoration-color: #7f7f7f\">776 │   </span><span style=\"color: #0000ff; text-decoration-color: #0000ff\">def</span> <span style=\"color: #00ff00; text-decoration-color: #00ff00\">_set</span>(<span style=\"color: #00ffff; text-decoration-color: #00ffff\">self</span>, i, obj):                                                                <span style=\"color: #800000; text-decoration-color: #800000\">│</span>\n",
       "<span style=\"color: #800000; text-decoration-color: #800000\">│</span>   <span style=\"color: #7f7f7f; text-decoration-color: #7f7f7f\">777 │   │   </span><span style=\"color: #00ffff; text-decoration-color: #00ffff\">self</span>._success, <span style=\"color: #00ffff; text-decoration-color: #00ffff\">self</span>._value = obj                                                   <span style=\"color: #800000; text-decoration-color: #800000\">│</span>\n",
       "<span style=\"color: #800000; text-decoration-color: #800000\">╰──────────────────────────────────────────────────────────────────────────────────────────────────╯</span>\n",
       "<span style=\"color: #ff0000; text-decoration-color: #ff0000; font-weight: bold\">RuntimeError: </span>Cannot re-initialize CUDA in forked subprocess. To use CUDA with multiprocessing, you must use the \n",
       "<span style=\"color: #008000; text-decoration-color: #008000\">'spawn'</span> start method\n",
       "</pre>\n"
      ],
      "text/plain": [
       "\u001b[1;91mRemoteTraceback: \u001b[0m\n",
       "\u001b[32m\"\"\u001b[0m\"\n",
       "Traceback \u001b[1m(\u001b[0mmost recent call last\u001b[1m)\u001b[0m:\n",
       "  File \u001b[32m\"/home/kosenko/miniconda3/lib/python3.10/site-packages/multiprocess/pool.py\"\u001b[0m, line \u001b[1;36m125\u001b[0m, in worker\n",
       "    result = \u001b[1m(\u001b[0m\u001b[3;92mTrue\u001b[0m, \u001b[1;35mfunc\u001b[0m\u001b[1m(\u001b[0m*args, **kwds\u001b[1m)\u001b[0m\u001b[1m)\u001b[0m\n",
       "  File \u001b[32m\"/home/kosenko/miniconda3/lib/python3.10/site-packages/datasets/utils/py_utils.py\"\u001b[0m, line \u001b[1;36m1353\u001b[0m, in \n",
       "_write_generator_to_queue\n",
       "    for i, result in \u001b[1;35menumerate\u001b[0m\u001b[1m(\u001b[0m\u001b[1;35mfunc\u001b[0m\u001b[1m(\u001b[0m**kwargs\u001b[1m)\u001b[0m\u001b[1m)\u001b[0m:\n",
       "  File \u001b[32m\"/home/kosenko/miniconda3/lib/python3.10/site-packages/datasets/arrow_dataset.py\"\u001b[0m, line \u001b[1;36m3358\u001b[0m, in _map_single\n",
       "    example = \u001b[1;35mapply_function_on_filtered_inputs\u001b[0m\u001b[1m(\u001b[0mexample, i, \u001b[33moffset\u001b[0m=\u001b[35moffset\u001b[0m\u001b[1m)\u001b[0m\n",
       "  File \u001b[32m\"/home/kosenko/miniconda3/lib/python3.10/site-packages/datasets/arrow_dataset.py\"\u001b[0m, line \u001b[1;36m3261\u001b[0m, in \n",
       "apply_function_on_filtered_inputs\n",
       "    processed_inputs = \u001b[1;35mfunction\u001b[0m\u001b[1m(\u001b[0m*fn_args, *additional_args, **fn_kwargs\u001b[1m)\u001b[0m\n",
       "  File \u001b[32m\"/tmp/ipykernel_1591660/757891258.py\"\u001b[0m, line \u001b[1;36m4\u001b[0m, in test\n",
       "    translated = \u001b[1;35mtranslator\u001b[0m\u001b[1m(\u001b[0m\u001b[33mtext\u001b[0m=\u001b[35mtext\u001b[0m\u001b[1m)\u001b[0m\n",
       "  File \u001b[32m\"/tmp/ipykernel_1591660/2459331615.py\"\u001b[0m, line \u001b[1;36m64\u001b[0m, in __call__\n",
       "    return \u001b[1;35mself.translate\u001b[0m\u001b[1m(\u001b[0m\u001b[33mtext\u001b[0m=\u001b[35mtext\u001b[0m\u001b[1m)\u001b[0m\n",
       "  File \u001b[32m\"/tmp/ipykernel_1591660/2459331615.py\"\u001b[0m, line \u001b[1;36m61\u001b[0m, in translate\n",
       "    return func_map\u001b[1m[\u001b[0mself.model_name\u001b[1m]\u001b[0m\u001b[1m(\u001b[0mtext\u001b[1m)\u001b[0m\n",
       "  File \u001b[32m\"/tmp/ipykernel_1591660/2459331615.py\"\u001b[0m, line \u001b[1;36m76\u001b[0m, in opusmt_translate\n",
       "    return \u001b[1;35mself.model.translate\u001b[0m\u001b[1m(\u001b[0m\n",
       "  File \u001b[32m\"/home/kosenko/miniconda3/lib/python3.10/site-packages/easynmt/EasyNMT.py\"\u001b[0m, line \u001b[1;36m181\u001b[0m, in translate\n",
       "    translated_sentences = \u001b[1;35mself.translate_sentences\u001b[0m\u001b[1m(\u001b[0msplitted_sentences, \u001b[33mtarget_lang\u001b[0m=\u001b[35mtarget_lang\u001b[0m, \n",
       "\u001b[33msource_lang\u001b[0m=\u001b[35msource_lang\u001b[0m, \u001b[33mshow_progress_bar\u001b[0m=\u001b[35mshow_progress_bar\u001b[0m, \u001b[33mbeam_size\u001b[0m=\u001b[35mbeam_size\u001b[0m, \u001b[33mbatch_size\u001b[0m=\u001b[35mbatch_size\u001b[0m, **kwargs\u001b[1m)\u001b[0m\n",
       "  File \u001b[32m\"/home/kosenko/miniconda3/lib/python3.10/site-packages/easynmt/EasyNMT.py\"\u001b[0m, line \u001b[1;36m278\u001b[0m, in translate_sentences\n",
       "    \u001b[1;35moutput.extend\u001b[0m\u001b[1m(\u001b[0m\u001b[1;35mself.translator.translate_sentences\u001b[0m\u001b[1m(\u001b[0msentences_sorted\u001b[1m[\u001b[0mstart_idx:start_idx+batch_size\u001b[1m]\u001b[0m, \n",
       "\u001b[33msource_lang\u001b[0m=\u001b[35msource_lang\u001b[0m, \u001b[33mtarget_lang\u001b[0m=\u001b[35mtarget_lang\u001b[0m, \u001b[33mbeam_size\u001b[0m=\u001b[35mbeam_size\u001b[0m, \u001b[33mdevice\u001b[0m=\u001b[35mself\u001b[0m.device, **kwargs\u001b[1m)\u001b[0m\u001b[1m)\u001b[0m\n",
       "  File \u001b[32m\"/home/kosenko/miniconda3/lib/python3.10/site-packages/easynmt/models/OpusMT.py\"\u001b[0m, line \u001b[1;36m41\u001b[0m, in \n",
       "translate_sentences\n",
       "    \u001b[1;35mmodel.to\u001b[0m\u001b[1m(\u001b[0mdevice\u001b[1m)\u001b[0m\n",
       "  File \u001b[32m\"/home/kosenko/miniconda3/lib/python3.10/site-packages/transformers/modeling_utils.py\"\u001b[0m, line \u001b[1;36m1896\u001b[0m, in to\n",
       "    return \u001b[1;35msuper\u001b[0m\u001b[1m(\u001b[0m\u001b[1m)\u001b[0m\u001b[1;35m.to\u001b[0m\u001b[1m(\u001b[0m*args, **kwargs\u001b[1m)\u001b[0m\n",
       "  File \u001b[32m\"/home/kosenko/miniconda3/lib/python3.10/site-packages/torch/nn/modules/module.py\"\u001b[0m, line \u001b[1;36m1145\u001b[0m, in to\n",
       "    return \u001b[1;35mself._apply\u001b[0m\u001b[1m(\u001b[0mconvert\u001b[1m)\u001b[0m\n",
       "  File \u001b[32m\"/home/kosenko/miniconda3/lib/python3.10/site-packages/torch/nn/modules/module.py\"\u001b[0m, line \u001b[1;36m797\u001b[0m, in _apply\n",
       "    \u001b[1;35mmodule._apply\u001b[0m\u001b[1m(\u001b[0mfn\u001b[1m)\u001b[0m\n",
       "  File \u001b[32m\"/home/kosenko/miniconda3/lib/python3.10/site-packages/torch/nn/modules/module.py\"\u001b[0m, line \u001b[1;36m797\u001b[0m, in _apply\n",
       "    \u001b[1;35mmodule._apply\u001b[0m\u001b[1m(\u001b[0mfn\u001b[1m)\u001b[0m\n",
       "  File \u001b[32m\"/home/kosenko/miniconda3/lib/python3.10/site-packages/torch/nn/modules/module.py\"\u001b[0m, line \u001b[1;36m820\u001b[0m, in _apply\n",
       "    param_applied = \u001b[1;35mfn\u001b[0m\u001b[1m(\u001b[0mparam\u001b[1m)\u001b[0m\n",
       "  File \u001b[32m\"/home/kosenko/miniconda3/lib/python3.10/site-packages/torch/nn/modules/module.py\"\u001b[0m, line \u001b[1;36m1143\u001b[0m, in convert\n",
       "    return \u001b[1;35mt.to\u001b[0m\u001b[1m(\u001b[0mdevice, dtype if \u001b[1;35mt.is_floating_point\u001b[0m\u001b[1m(\u001b[0m\u001b[1m)\u001b[0m or \u001b[1;35mt.is_complex\u001b[0m\u001b[1m(\u001b[0m\u001b[1m)\u001b[0m else \u001b[3;35mNone\u001b[0m, non_blocking\u001b[1m)\u001b[0m\n",
       "  File \u001b[32m\"/home/kosenko/miniconda3/lib/python3.10/site-packages/torch/cuda/__init__.py\"\u001b[0m, line \u001b[1;36m235\u001b[0m, in _lazy_init\n",
       "    raise \u001b[1;35mRuntimeError\u001b[0m\u001b[1m(\u001b[0m\n",
       "RuntimeError: Cannot re-initialize CUDA in forked subprocess. To use CUDA with multiprocessing, you must use the \n",
       "\u001b[32m'spawn'\u001b[0m start method\n",
       "\u001b[32m\"\"\u001b[0m\"\n",
       "\n",
       "\u001b[3mThe above exception was the direct cause of the following exception:\u001b[0m\n",
       "\n",
       "\u001b[31m╭─\u001b[0m\u001b[31m──────────────────────────────\u001b[0m\u001b[31m \u001b[0m\u001b[1;31mTraceback \u001b[0m\u001b[1;2;31m(most recent call last)\u001b[0m\u001b[31m \u001b[0m\u001b[31m───────────────────────────────\u001b[0m\u001b[31m─╮\u001b[0m\n",
       "\u001b[31m│\u001b[0m in \u001b[92m<module>\u001b[0m:\u001b[94m7\u001b[0m                                                                                    \u001b[31m│\u001b[0m\n",
       "\u001b[31m│\u001b[0m                                                                                                  \u001b[31m│\u001b[0m\n",
       "\u001b[31m│\u001b[0m   \u001b[2m4 \u001b[0m\u001b[2m│   │   \u001b[0mtranslated = translator(text=text)                                                   \u001b[31m│\u001b[0m\n",
       "\u001b[31m│\u001b[0m   \u001b[2m5 \u001b[0m\u001b[2m│   │   \u001b[0mexample[\u001b[33mf\u001b[0m\u001b[33m'\u001b[0m\u001b[33m{\u001b[0mfield\u001b[33m}\u001b[0m\u001b[33m_translated\u001b[0m\u001b[33m'\u001b[0m] = translated                                          \u001b[31m│\u001b[0m\n",
       "\u001b[31m│\u001b[0m   \u001b[2m6 \u001b[0m                                                                                             \u001b[31m│\u001b[0m\n",
       "\u001b[31m│\u001b[0m \u001b[31m❱ \u001b[0m7 data[\u001b[33m\"\u001b[0m\u001b[33mtrain\u001b[0m\u001b[33m\"\u001b[0m].select(\u001b[96mrange\u001b[0m(\u001b[94m50\u001b[0m)).map(test, num_proc=\u001b[94m3\u001b[0m)                                        \u001b[31m│\u001b[0m\n",
       "\u001b[31m│\u001b[0m   \u001b[2m8 \u001b[0m                                                                                             \u001b[31m│\u001b[0m\n",
       "\u001b[31m│\u001b[0m                                                                                                  \u001b[31m│\u001b[0m\n",
       "\u001b[31m│\u001b[0m \u001b[2;33m/home/kosenko/miniconda3/lib/python3.10/site-packages/datasets/\u001b[0m\u001b[1;33marrow_dataset.py\u001b[0m:\u001b[94m563\u001b[0m in \u001b[92mwrapper\u001b[0m   \u001b[31m│\u001b[0m\n",
       "\u001b[31m│\u001b[0m                                                                                                  \u001b[31m│\u001b[0m\n",
       "\u001b[31m│\u001b[0m   \u001b[2m 560 \u001b[0m\u001b[2m│   │   \u001b[0m\u001b[94melse\u001b[0m:                                                                             \u001b[31m│\u001b[0m\n",
       "\u001b[31m│\u001b[0m   \u001b[2m 561 \u001b[0m\u001b[2m│   │   │   \u001b[0m\u001b[96mself\u001b[0m: \u001b[33m\"\u001b[0m\u001b[33mDataset\u001b[0m\u001b[33m\"\u001b[0m = kwargs.pop(\u001b[33m\"\u001b[0m\u001b[33mself\u001b[0m\u001b[33m\"\u001b[0m)                                          \u001b[31m│\u001b[0m\n",
       "\u001b[31m│\u001b[0m   \u001b[2m 562 \u001b[0m\u001b[2m│   │   \u001b[0m\u001b[2m# apply actual function\u001b[0m                                                           \u001b[31m│\u001b[0m\n",
       "\u001b[31m│\u001b[0m \u001b[31m❱ \u001b[0m 563 \u001b[2m│   │   \u001b[0mout: Union[\u001b[33m\"\u001b[0m\u001b[33mDataset\u001b[0m\u001b[33m\"\u001b[0m, \u001b[33m\"\u001b[0m\u001b[33mDatasetDict\u001b[0m\u001b[33m\"\u001b[0m] = func(\u001b[96mself\u001b[0m, *args, **kwargs)                \u001b[31m│\u001b[0m\n",
       "\u001b[31m│\u001b[0m   \u001b[2m 564 \u001b[0m\u001b[2m│   │   \u001b[0mdatasets: List[\u001b[33m\"\u001b[0m\u001b[33mDataset\u001b[0m\u001b[33m\"\u001b[0m] = \u001b[96mlist\u001b[0m(out.values()) \u001b[94mif\u001b[0m \u001b[96misinstance\u001b[0m(out, \u001b[96mdict\u001b[0m) \u001b[94melse\u001b[0m [ou  \u001b[31m│\u001b[0m\n",
       "\u001b[31m│\u001b[0m   \u001b[2m 565 \u001b[0m\u001b[2m│   │   \u001b[0m\u001b[94mfor\u001b[0m dataset \u001b[95min\u001b[0m datasets:                                                          \u001b[31m│\u001b[0m\n",
       "\u001b[31m│\u001b[0m   \u001b[2m 566 \u001b[0m\u001b[2m│   │   │   \u001b[0m\u001b[2m# Remove task templates if a column mapping of the template is no longer val\u001b[0m  \u001b[31m│\u001b[0m\n",
       "\u001b[31m│\u001b[0m                                                                                                  \u001b[31m│\u001b[0m\n",
       "\u001b[31m│\u001b[0m \u001b[2;33m/home/kosenko/miniconda3/lib/python3.10/site-packages/datasets/\u001b[0m\u001b[1;33marrow_dataset.py\u001b[0m:\u001b[94m528\u001b[0m in \u001b[92mwrapper\u001b[0m   \u001b[31m│\u001b[0m\n",
       "\u001b[31m│\u001b[0m                                                                                                  \u001b[31m│\u001b[0m\n",
       "\u001b[31m│\u001b[0m   \u001b[2m 525 \u001b[0m\u001b[2m│   │   │   \u001b[0m\u001b[33m\"\u001b[0m\u001b[33moutput_all_columns\u001b[0m\u001b[33m\"\u001b[0m: \u001b[96mself\u001b[0m._output_all_columns,                               \u001b[31m│\u001b[0m\n",
       "\u001b[31m│\u001b[0m   \u001b[2m 526 \u001b[0m\u001b[2m│   │   \u001b[0m}                                                                                 \u001b[31m│\u001b[0m\n",
       "\u001b[31m│\u001b[0m   \u001b[2m 527 \u001b[0m\u001b[2m│   │   \u001b[0m\u001b[2m# apply actual function\u001b[0m                                                           \u001b[31m│\u001b[0m\n",
       "\u001b[31m│\u001b[0m \u001b[31m❱ \u001b[0m 528 \u001b[2m│   │   \u001b[0mout: Union[\u001b[33m\"\u001b[0m\u001b[33mDataset\u001b[0m\u001b[33m\"\u001b[0m, \u001b[33m\"\u001b[0m\u001b[33mDatasetDict\u001b[0m\u001b[33m\"\u001b[0m] = func(\u001b[96mself\u001b[0m, *args, **kwargs)                \u001b[31m│\u001b[0m\n",
       "\u001b[31m│\u001b[0m   \u001b[2m 529 \u001b[0m\u001b[2m│   │   \u001b[0mdatasets: List[\u001b[33m\"\u001b[0m\u001b[33mDataset\u001b[0m\u001b[33m\"\u001b[0m] = \u001b[96mlist\u001b[0m(out.values()) \u001b[94mif\u001b[0m \u001b[96misinstance\u001b[0m(out, \u001b[96mdict\u001b[0m) \u001b[94melse\u001b[0m [ou  \u001b[31m│\u001b[0m\n",
       "\u001b[31m│\u001b[0m   \u001b[2m 530 \u001b[0m\u001b[2m│   │   \u001b[0m\u001b[2m# re-apply format to the output\u001b[0m                                                   \u001b[31m│\u001b[0m\n",
       "\u001b[31m│\u001b[0m   \u001b[2m 531 \u001b[0m\u001b[2m│   │   \u001b[0m\u001b[94mfor\u001b[0m dataset \u001b[95min\u001b[0m datasets:                                                          \u001b[31m│\u001b[0m\n",
       "\u001b[31m│\u001b[0m                                                                                                  \u001b[31m│\u001b[0m\n",
       "\u001b[31m│\u001b[0m \u001b[2;33m/home/kosenko/miniconda3/lib/python3.10/site-packages/datasets/\u001b[0m\u001b[1;33marrow_dataset.py\u001b[0m:\u001b[94m3097\u001b[0m in \u001b[92mmap\u001b[0m      \u001b[31m│\u001b[0m\n",
       "\u001b[31m│\u001b[0m                                                                                                  \u001b[31m│\u001b[0m\n",
       "\u001b[31m│\u001b[0m   \u001b[2m3094 \u001b[0m\u001b[2m│   │   │   │   │   │   \u001b[0mleave=\u001b[94mFalse\u001b[0m,                                                      \u001b[31m│\u001b[0m\n",
       "\u001b[31m│\u001b[0m   \u001b[2m3095 \u001b[0m\u001b[2m│   │   │   │   │   │   \u001b[0mdesc=(desc \u001b[95mor\u001b[0m \u001b[33m\"\u001b[0m\u001b[33mMap\u001b[0m\u001b[33m\"\u001b[0m) + \u001b[33mf\u001b[0m\u001b[33m\"\u001b[0m\u001b[33m (num_proc=\u001b[0m\u001b[33m{\u001b[0mnum_proc\u001b[33m}\u001b[0m\u001b[33m)\u001b[0m\u001b[33m\"\u001b[0m,                 \u001b[31m│\u001b[0m\n",
       "\u001b[31m│\u001b[0m   \u001b[2m3096 \u001b[0m\u001b[2m│   │   │   │   │   \u001b[0m) \u001b[94mas\u001b[0m pbar:                                                            \u001b[31m│\u001b[0m\n",
       "\u001b[31m│\u001b[0m \u001b[31m❱ \u001b[0m3097 \u001b[2m│   │   │   │   │   │   \u001b[0m\u001b[94mfor\u001b[0m rank, done, content \u001b[95min\u001b[0m iflatmap_unordered(                    \u001b[31m│\u001b[0m\n",
       "\u001b[31m│\u001b[0m   \u001b[2m3098 \u001b[0m\u001b[2m│   │   │   │   │   │   │   \u001b[0mpool, Dataset._map_single, kwargs_iterable=kwargs_per_job     \u001b[31m│\u001b[0m\n",
       "\u001b[31m│\u001b[0m   \u001b[2m3099 \u001b[0m\u001b[2m│   │   │   │   │   │   \u001b[0m):                                                                \u001b[31m│\u001b[0m\n",
       "\u001b[31m│\u001b[0m   \u001b[2m3100 \u001b[0m\u001b[2m│   │   │   │   │   │   │   \u001b[0m\u001b[94mif\u001b[0m done:                                                      \u001b[31m│\u001b[0m\n",
       "\u001b[31m│\u001b[0m                                                                                                  \u001b[31m│\u001b[0m\n",
       "\u001b[31m│\u001b[0m \u001b[2;33m/home/kosenko/miniconda3/lib/python3.10/site-packages/datasets/utils/\u001b[0m\u001b[1;33mpy_utils.py\u001b[0m:\u001b[94m1377\u001b[0m in         \u001b[31m│\u001b[0m\n",
       "\u001b[31m│\u001b[0m \u001b[92miflatmap_unordered\u001b[0m                                                                               \u001b[31m│\u001b[0m\n",
       "\u001b[31m│\u001b[0m                                                                                                  \u001b[31m│\u001b[0m\n",
       "\u001b[31m│\u001b[0m   \u001b[2m1374 \u001b[0m\u001b[2m│   │   │   │   \u001b[0m\u001b[94mif\u001b[0m \u001b[96mall\u001b[0m(async_result.ready() \u001b[94mfor\u001b[0m async_result \u001b[95min\u001b[0m async_results) \u001b[95mand\u001b[0m queue  \u001b[31m│\u001b[0m\n",
       "\u001b[31m│\u001b[0m   \u001b[2m1375 \u001b[0m\u001b[2m│   │   │   │   │   \u001b[0m\u001b[94mbreak\u001b[0m                                                                 \u001b[31m│\u001b[0m\n",
       "\u001b[31m│\u001b[0m   \u001b[2m1376 \u001b[0m\u001b[2m│   │   \u001b[0m\u001b[2m# we get the result in case there's an error to raise\u001b[0m                             \u001b[31m│\u001b[0m\n",
       "\u001b[31m│\u001b[0m \u001b[31m❱ \u001b[0m1377 \u001b[2m│   │   \u001b[0m[async_result.get() \u001b[94mfor\u001b[0m async_result \u001b[95min\u001b[0m async_results]                            \u001b[31m│\u001b[0m\n",
       "\u001b[31m│\u001b[0m   \u001b[2m1378 \u001b[0m                                                                                          \u001b[31m│\u001b[0m\n",
       "\u001b[31m│\u001b[0m                                                                                                  \u001b[31m│\u001b[0m\n",
       "\u001b[31m│\u001b[0m \u001b[2;33m/home/kosenko/miniconda3/lib/python3.10/site-packages/datasets/utils/\u001b[0m\u001b[1;33mpy_utils.py\u001b[0m:\u001b[94m1377\u001b[0m in         \u001b[31m│\u001b[0m\n",
       "\u001b[31m│\u001b[0m \u001b[92m<listcomp>\u001b[0m                                                                                       \u001b[31m│\u001b[0m\n",
       "\u001b[31m│\u001b[0m                                                                                                  \u001b[31m│\u001b[0m\n",
       "\u001b[31m│\u001b[0m   \u001b[2m1374 \u001b[0m\u001b[2m│   │   │   │   \u001b[0m\u001b[94mif\u001b[0m \u001b[96mall\u001b[0m(async_result.ready() \u001b[94mfor\u001b[0m async_result \u001b[95min\u001b[0m async_results) \u001b[95mand\u001b[0m queue  \u001b[31m│\u001b[0m\n",
       "\u001b[31m│\u001b[0m   \u001b[2m1375 \u001b[0m\u001b[2m│   │   │   │   │   \u001b[0m\u001b[94mbreak\u001b[0m                                                                 \u001b[31m│\u001b[0m\n",
       "\u001b[31m│\u001b[0m   \u001b[2m1376 \u001b[0m\u001b[2m│   │   \u001b[0m\u001b[2m# we get the result in case there's an error to raise\u001b[0m                             \u001b[31m│\u001b[0m\n",
       "\u001b[31m│\u001b[0m \u001b[31m❱ \u001b[0m1377 \u001b[2m│   │   \u001b[0m[async_result.get() \u001b[94mfor\u001b[0m async_result \u001b[95min\u001b[0m async_results]                            \u001b[31m│\u001b[0m\n",
       "\u001b[31m│\u001b[0m   \u001b[2m1378 \u001b[0m                                                                                          \u001b[31m│\u001b[0m\n",
       "\u001b[31m│\u001b[0m                                                                                                  \u001b[31m│\u001b[0m\n",
       "\u001b[31m│\u001b[0m \u001b[2;33m/home/kosenko/miniconda3/lib/python3.10/site-packages/multiprocess/\u001b[0m\u001b[1;33mpool.py\u001b[0m:\u001b[94m774\u001b[0m in \u001b[92mget\u001b[0m            \u001b[31m│\u001b[0m\n",
       "\u001b[31m│\u001b[0m                                                                                                  \u001b[31m│\u001b[0m\n",
       "\u001b[31m│\u001b[0m   \u001b[2m771 \u001b[0m\u001b[2m│   │   \u001b[0m\u001b[94mif\u001b[0m \u001b[96mself\u001b[0m._success:                                                                  \u001b[31m│\u001b[0m\n",
       "\u001b[31m│\u001b[0m   \u001b[2m772 \u001b[0m\u001b[2m│   │   │   \u001b[0m\u001b[94mreturn\u001b[0m \u001b[96mself\u001b[0m._value                                                             \u001b[31m│\u001b[0m\n",
       "\u001b[31m│\u001b[0m   \u001b[2m773 \u001b[0m\u001b[2m│   │   \u001b[0m\u001b[94melse\u001b[0m:                                                                              \u001b[31m│\u001b[0m\n",
       "\u001b[31m│\u001b[0m \u001b[31m❱ \u001b[0m774 \u001b[2m│   │   │   \u001b[0m\u001b[94mraise\u001b[0m \u001b[96mself\u001b[0m._value                                                              \u001b[31m│\u001b[0m\n",
       "\u001b[31m│\u001b[0m   \u001b[2m775 \u001b[0m\u001b[2m│   \u001b[0m                                                                                       \u001b[31m│\u001b[0m\n",
       "\u001b[31m│\u001b[0m   \u001b[2m776 \u001b[0m\u001b[2m│   \u001b[0m\u001b[94mdef\u001b[0m \u001b[92m_set\u001b[0m(\u001b[96mself\u001b[0m, i, obj):                                                                \u001b[31m│\u001b[0m\n",
       "\u001b[31m│\u001b[0m   \u001b[2m777 \u001b[0m\u001b[2m│   │   \u001b[0m\u001b[96mself\u001b[0m._success, \u001b[96mself\u001b[0m._value = obj                                                   \u001b[31m│\u001b[0m\n",
       "\u001b[31m╰──────────────────────────────────────────────────────────────────────────────────────────────────╯\u001b[0m\n",
       "\u001b[1;91mRuntimeError: \u001b[0mCannot re-initialize CUDA in forked subprocess. To use CUDA with multiprocessing, you must use the \n",
       "\u001b[32m'spawn'\u001b[0m start method\n"
      ]
     },
     "metadata": {},
     "output_type": "display_data"
    }
   ],
   "source": [
    "def test(example):\n",
    "    for field in fields:\n",
    "        text = example[field]\n",
    "        translated = translator(text=text)\n",
    "        example[f'{field}_translated'] = translated\n",
    "\n",
    "data[\"train\"].select(range(50)).map(test, num_proc=3)"
   ]
  }
 ],
 "metadata": {
  "kernelspec": {
   "display_name": "base",
   "language": "python",
   "name": "python3"
  },
  "language_info": {
   "codemirror_mode": {
    "name": "ipython",
    "version": 3
   },
   "file_extension": ".py",
   "mimetype": "text/x-python",
   "name": "python",
   "nbconvert_exporter": "python",
   "pygments_lexer": "ipython3",
   "version": "3.10.9"
  },
  "orig_nbformat": 4
 },
 "nbformat": 4,
 "nbformat_minor": 2
}
