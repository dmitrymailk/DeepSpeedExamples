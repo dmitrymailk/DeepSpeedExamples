{
 "cells": [
  {
   "cell_type": "code",
   "execution_count": 1,
   "metadata": {},
   "outputs": [
    {
     "name": "stderr",
     "output_type": "stream",
     "text": [
      "/home/kosenko/miniconda3/lib/python3.10/site-packages/tqdm/auto.py:22: TqdmWarning: IProgress not found. Please update jupyter and ipywidgets. See https://ipywidgets.readthedocs.io/en/stable/user_install.html\n",
      "  from .autonotebook import tqdm as notebook_tqdm\n"
     ]
    }
   ],
   "source": [
    "from datasets import load_from_disk, load_dataset"
   ]
  },
  {
   "cell_type": "code",
   "execution_count": null,
   "metadata": {},
   "outputs": [],
   "source": [
    "# https://huggingface.co/HuggingFaceH4"
   ]
  },
  {
   "cell_type": "code",
   "execution_count": null,
   "metadata": {},
   "outputs": [],
   "source": [
    "# https://github.com/yaodongC/awesome-instruction-dataset"
   ]
  },
  {
   "cell_type": "code",
   "execution_count": 7,
   "metadata": {},
   "outputs": [],
   "source": [
    "from transformers import AutoModelForSeq2SeqLM, AutoTokenizer\n",
    "import torch\n",
    "\n",
    "class Translator:\n",
    "    def __init__(self, \n",
    "        model_name: str\n",
    "    ):\n",
    "        self.model_name = model_name\n",
    "        self.init()\n",
    "        \n",
    "        self.model = None\n",
    "        self.tokenizer = None\n",
    "    \n",
    "    def init(self):\n",
    "        print(\"Init model.\")\n",
    "        if self.model_name == \"facebook/nllb-200-3.3B\":\n",
    "            self.model = AutoModelForSeq2SeqLM.from_pretrained(\n",
    "                self.model_name, \n",
    "                use_auth_token=True,\n",
    "            )\n",
    "            self.model.eval()\n",
    "            self.tokenizer = AutoTokenizer.from_pretrained(\n",
    "                self.model_name,\n",
    "                use_auth_token=True,\n",
    "            )\n",
    "        print(\"Model is initialized.\")\n",
    "    \n",
    "    def translate(self, text: str):\n",
    "        with torch.no_grad():\n",
    "            if self.model_name == \"facebook/nllb-200-3.3B\":\n",
    "                return self.nllb_translate(text=text)\n",
    "    \n",
    "    def nllb_translate(self, text: str):\n",
    "        inputs = self.tokenizer(text, return_tensors=\"pt\")\n",
    "        inputs = self.to_cuda(inputs=inputs)\n",
    "        translated_tokens = self.model.generate(\n",
    "            **inputs, forced_bos_token_id=self.tokenizer.lang_code_to_id[\"rus_Cyrl\"], max_length=30\n",
    "        )\n",
    "        return self.tokenizer.batch_decode(translated_tokens, skip_special_tokens=True)[0]\n",
    "\n",
    "    def to_cuda(self, inputs):\n",
    "        for key in inputs.keys():\n",
    "            inputs[key] = inputs[key].to(\"cuda\")\n",
    "            return inputs\n",
    "         "
   ]
  },
  {
   "cell_type": "code",
   "execution_count": 8,
   "metadata": {},
   "outputs": [
    {
     "name": "stderr",
     "output_type": "stream",
     "text": [
      "Loading checkpoint shards: 100%|██████████| 3/3 [00:31<00:00, 10.41s/it]\n"
     ]
    }
   ],
   "source": [
    "model_name = 'facebook/nllb-200-3.3B'\n",
    "translator = Translator(\n",
    "\tmodel_name=model_name\n",
    ")"
   ]
  },
  {
   "cell_type": "code",
   "execution_count": null,
   "metadata": {},
   "outputs": [],
   "source": [
    "\"\"\"\n",
    "- databricks/databricks-dolly-15k - https://huggingface.co/datasets/databricks/databricks-dolly-15k\n",
    "- self_instruct - https://huggingface.co/datasets/yizhongw/self_instruct\n",
    "- OpenAssistant/oasst1 - https://huggingface.co/datasets/OpenAssistant/oasst1\n",
    "- sahil2801/CodeAlpaca-20k - https://huggingface.co/datasets/sahil2801/CodeAlpaca-20k\n",
    "- HuggingFaceH4/helpful_instructions - https://huggingface.co/datasets/HuggingFaceH4/helpful_instructions\n",
    "- HuggingFaceH4/stack-exchange-preferences - https://huggingface.co/datasets/HuggingFaceH4/stack-exchange-preferences\n",
    "- openai/summarize_from_feedback - https://huggingface.co/datasets/openai/summarize_from_feedback \n",
    "- stanfordnlp/SHP - https://huggingface.co/datasets/stanfordnlp/SHP\n",
    "- unnatural-instructions(text-davinci002) - https://github.com/orhonovich/unnatural-instructions/tree/main\n",
    "- eli5 - https://huggingface.co/datasets/eli5\n",
    "- chip2_instruct_alpha - https://github.com/Rallio67/language-model-agents/tree/main\n",
    "\n",
    "- нужно больше датасетов с саммаризацией\n",
    "\"\"\"\n"
   ]
  },
  {
   "attachments": {},
   "cell_type": "markdown",
   "metadata": {},
   "source": [
    "### databricks/databricks-dolly-15k"
   ]
  },
  {
   "cell_type": "code",
   "execution_count": 3,
   "metadata": {},
   "outputs": [
    {
     "name": "stderr",
     "output_type": "stream",
     "text": [
      "Found cached dataset json (/home/kosenko/.cache/huggingface/datasets/databricks___json/databricks--databricks-dolly-15k-aae1918f8081f1c6/0.0.0/fe5dd6ea2639a6df622901539cb550cf8797e5a6b2dd7af1cf934bed8e233e6e)\n",
      "100%|██████████| 1/1 [00:00<00:00, 700.92it/s]\n"
     ]
    },
    {
     "data": {
      "text/plain": [
       "DatasetDict({\n",
       "    train: Dataset({\n",
       "        features: ['instruction', 'context', 'response', 'category'],\n",
       "        num_rows: 15014\n",
       "    })\n",
       "})"
      ]
     },
     "execution_count": 3,
     "metadata": {},
     "output_type": "execute_result"
    }
   ],
   "source": [
    "data = load_dataset(\"databricks/databricks-dolly-15k\")\n",
    "data"
   ]
  },
  {
   "cell_type": "code",
   "execution_count": 4,
   "metadata": {},
   "outputs": [
    {
     "data": {
      "text/plain": [
       "{'instruction': 'When did Virgin Australia start operating?',\n",
       " 'context': \"Virgin Australia, the trading name of Virgin Australia Airlines Pty Ltd, is an Australian-based airline. It is the largest airline by fleet size to use the Virgin brand. It commenced services on 31 August 2000 as Virgin Blue, with two aircraft on a single route.[3] It suddenly found itself as a major airline in Australia's domestic market after the collapse of Ansett Australia in September 2001. The airline has since grown to directly serve 32 cities in Australia, from hubs in Brisbane, Melbourne and Sydney.[4]\",\n",
       " 'response': 'Virgin Australia commenced services on 31 August 2000 as Virgin Blue, with two aircraft on a single route.',\n",
       " 'category': 'closed_qa'}"
      ]
     },
     "execution_count": 4,
     "metadata": {},
     "output_type": "execute_result"
    }
   ],
   "source": [
    "data['train'][0]"
   ]
  },
  {
   "cell_type": "code",
   "execution_count": null,
   "metadata": {},
   "outputs": [],
   "source": []
  }
 ],
 "metadata": {
  "kernelspec": {
   "display_name": "base",
   "language": "python",
   "name": "python3"
  },
  "language_info": {
   "codemirror_mode": {
    "name": "ipython",
    "version": 3
   },
   "file_extension": ".py",
   "mimetype": "text/x-python",
   "name": "python",
   "nbconvert_exporter": "python",
   "pygments_lexer": "ipython3",
   "version": "3.10.9"
  },
  "orig_nbformat": 4
 },
 "nbformat": 4,
 "nbformat_minor": 2
}
