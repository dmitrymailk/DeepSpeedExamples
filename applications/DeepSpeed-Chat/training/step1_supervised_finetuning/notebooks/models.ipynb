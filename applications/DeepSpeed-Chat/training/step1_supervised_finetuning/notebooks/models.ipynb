{
 "cells": [
  {
   "cell_type": "code",
   "execution_count": 1,
   "metadata": {},
   "outputs": [
    {
     "name": "stderr",
     "output_type": "stream",
     "text": [
      "/home/kosenko/miniconda3/lib/python3.10/site-packages/tqdm/auto.py:22: TqdmWarning: IProgress not found. Please update jupyter and ipywidgets. See https://ipywidgets.readthedocs.io/en/stable/user_install.html\n",
      "  from .autonotebook import tqdm as notebook_tqdm\n"
     ]
    }
   ],
   "source": [
    "import torch\n",
    "import torch.nn.functional as F\n",
    "\n",
    "from transformers import AutoModel, AutoTokenizer\n",
    "\n",
    "# tokenizer = AutoTokenizer.from_pretrained(\"facebook/xglm-1.7B\")\n",
    "# model = AutoModel.from_pretrained(\"facebook/xglm-1.7B\")\n"
   ]
  },
  {
   "cell_type": "code",
   "execution_count": 4,
   "metadata": {},
   "outputs": [
    {
     "name": "stderr",
     "output_type": "stream",
     "text": [
      "Some weights of the model checkpoint at facebook/xglm-1.7B were not used when initializing XGLMModel: ['lm_head.weight']\n",
      "- This IS expected if you are initializing XGLMModel from the checkpoint of a model trained on another task or with another architecture (e.g. initializing a BertForSequenceClassification model from a BertForPreTraining model).\n",
      "- This IS NOT expected if you are initializing XGLMModel from the checkpoint of a model that you expect to be exactly identical (initializing a BertForSequenceClassification model from a BertForSequenceClassification model).\n"
     ]
    }
   ],
   "source": [
    "model = AutoModel.from_pretrained(\"facebook/xglm-1.7B\")"
   ]
  },
  {
   "cell_type": "code",
   "execution_count": 3,
   "metadata": {},
   "outputs": [
    {
     "data": {
      "text/plain": [
       "OPTModel(\n",
       "  (decoder): OPTDecoder(\n",
       "    (embed_tokens): Embedding(50272, 512, padding_idx=1)\n",
       "    (embed_positions): OPTLearnedPositionalEmbedding(2050, 1024)\n",
       "    (project_out): Linear(in_features=1024, out_features=512, bias=False)\n",
       "    (project_in): Linear(in_features=512, out_features=1024, bias=False)\n",
       "    (layers): ModuleList(\n",
       "      (0-23): 24 x OPTDecoderLayer(\n",
       "        (self_attn): OPTAttention(\n",
       "          (k_proj): Linear(in_features=1024, out_features=1024, bias=True)\n",
       "          (v_proj): Linear(in_features=1024, out_features=1024, bias=True)\n",
       "          (q_proj): Linear(in_features=1024, out_features=1024, bias=True)\n",
       "          (out_proj): Linear(in_features=1024, out_features=1024, bias=True)\n",
       "        )\n",
       "        (activation_fn): ReLU()\n",
       "        (self_attn_layer_norm): LayerNorm((1024,), eps=1e-05, elementwise_affine=True)\n",
       "        (fc1): Linear(in_features=1024, out_features=4096, bias=True)\n",
       "        (fc2): Linear(in_features=4096, out_features=1024, bias=True)\n",
       "        (final_layer_norm): LayerNorm((1024,), eps=1e-05, elementwise_affine=True)\n",
       "      )\n",
       "    )\n",
       "  )\n",
       ")"
      ]
     },
     "execution_count": 3,
     "metadata": {},
     "output_type": "execute_result"
    }
   ],
   "source": [
    "model"
   ]
  },
  {
   "cell_type": "code",
   "execution_count": 5,
   "metadata": {},
   "outputs": [
    {
     "data": {
      "text/plain": [
       "XGLMModel(\n",
       "  (embed_tokens): Embedding(256008, 2048, padding_idx=1)\n",
       "  (embed_positions): XGLMSinusoidalPositionalEmbedding()\n",
       "  (layers): ModuleList(\n",
       "    (0-23): 24 x XGLMDecoderLayer(\n",
       "      (self_attn): XGLMAttention(\n",
       "        (k_proj): Linear(in_features=2048, out_features=2048, bias=True)\n",
       "        (v_proj): Linear(in_features=2048, out_features=2048, bias=True)\n",
       "        (q_proj): Linear(in_features=2048, out_features=2048, bias=True)\n",
       "        (out_proj): Linear(in_features=2048, out_features=2048, bias=True)\n",
       "      )\n",
       "      (activation_fn): GELUActivation()\n",
       "      (self_attn_layer_norm): LayerNorm((2048,), eps=1e-05, elementwise_affine=True)\n",
       "      (fc1): Linear(in_features=2048, out_features=8192, bias=True)\n",
       "      (fc2): Linear(in_features=8192, out_features=2048, bias=True)\n",
       "      (final_layer_norm): LayerNorm((2048,), eps=1e-05, elementwise_affine=True)\n",
       "    )\n",
       "  )\n",
       "  (layer_norm): LayerNorm((2048,), eps=1e-05, elementwise_affine=True)\n",
       ")"
      ]
     },
     "execution_count": 5,
     "metadata": {},
     "output_type": "execute_result"
    }
   ],
   "source": [
    "model2"
   ]
  },
  {
   "cell_type": "code",
   "execution_count": 8,
   "metadata": {},
   "outputs": [],
   "source": [
    "from torch import nn"
   ]
  },
  {
   "cell_type": "code",
   "execution_count": 9,
   "metadata": {},
   "outputs": [
    {
     "name": "stdout",
     "output_type": "stream",
     "text": [
      "decoder.layers.0.self_attn.k_proj\n",
      "decoder.layers.0.self_attn.v_proj\n",
      "decoder.layers.0.self_attn.q_proj\n",
      "decoder.layers.0.self_attn.out_proj\n",
      "decoder.layers.0.fc1\n",
      "decoder.layers.0.fc2\n",
      "decoder.layers.1.self_attn.k_proj\n",
      "decoder.layers.1.self_attn.v_proj\n",
      "decoder.layers.1.self_attn.q_proj\n",
      "decoder.layers.1.self_attn.out_proj\n",
      "decoder.layers.1.fc1\n",
      "decoder.layers.1.fc2\n",
      "decoder.layers.2.self_attn.k_proj\n",
      "decoder.layers.2.self_attn.v_proj\n",
      "decoder.layers.2.self_attn.q_proj\n",
      "decoder.layers.2.self_attn.out_proj\n",
      "decoder.layers.2.fc1\n",
      "decoder.layers.2.fc2\n",
      "decoder.layers.3.self_attn.k_proj\n",
      "decoder.layers.3.self_attn.v_proj\n",
      "decoder.layers.3.self_attn.q_proj\n",
      "decoder.layers.3.self_attn.out_proj\n",
      "decoder.layers.3.fc1\n",
      "decoder.layers.3.fc2\n",
      "decoder.layers.4.self_attn.k_proj\n",
      "decoder.layers.4.self_attn.v_proj\n",
      "decoder.layers.4.self_attn.q_proj\n",
      "decoder.layers.4.self_attn.out_proj\n",
      "decoder.layers.4.fc1\n",
      "decoder.layers.4.fc2\n",
      "decoder.layers.5.self_attn.k_proj\n",
      "decoder.layers.5.self_attn.v_proj\n",
      "decoder.layers.5.self_attn.q_proj\n",
      "decoder.layers.5.self_attn.out_proj\n",
      "decoder.layers.5.fc1\n",
      "decoder.layers.5.fc2\n",
      "decoder.layers.6.self_attn.k_proj\n",
      "decoder.layers.6.self_attn.v_proj\n",
      "decoder.layers.6.self_attn.q_proj\n",
      "decoder.layers.6.self_attn.out_proj\n",
      "decoder.layers.6.fc1\n",
      "decoder.layers.6.fc2\n",
      "decoder.layers.7.self_attn.k_proj\n",
      "decoder.layers.7.self_attn.v_proj\n",
      "decoder.layers.7.self_attn.q_proj\n",
      "decoder.layers.7.self_attn.out_proj\n",
      "decoder.layers.7.fc1\n",
      "decoder.layers.7.fc2\n",
      "decoder.layers.8.self_attn.k_proj\n",
      "decoder.layers.8.self_attn.v_proj\n",
      "decoder.layers.8.self_attn.q_proj\n",
      "decoder.layers.8.self_attn.out_proj\n",
      "decoder.layers.8.fc1\n",
      "decoder.layers.8.fc2\n",
      "decoder.layers.9.self_attn.k_proj\n",
      "decoder.layers.9.self_attn.v_proj\n",
      "decoder.layers.9.self_attn.q_proj\n",
      "decoder.layers.9.self_attn.out_proj\n",
      "decoder.layers.9.fc1\n",
      "decoder.layers.9.fc2\n",
      "decoder.layers.10.self_attn.k_proj\n",
      "decoder.layers.10.self_attn.v_proj\n",
      "decoder.layers.10.self_attn.q_proj\n",
      "decoder.layers.10.self_attn.out_proj\n",
      "decoder.layers.10.fc1\n",
      "decoder.layers.10.fc2\n",
      "decoder.layers.11.self_attn.k_proj\n",
      "decoder.layers.11.self_attn.v_proj\n",
      "decoder.layers.11.self_attn.q_proj\n",
      "decoder.layers.11.self_attn.out_proj\n",
      "decoder.layers.11.fc1\n",
      "decoder.layers.11.fc2\n",
      "decoder.layers.12.self_attn.k_proj\n",
      "decoder.layers.12.self_attn.v_proj\n",
      "decoder.layers.12.self_attn.q_proj\n",
      "decoder.layers.12.self_attn.out_proj\n",
      "decoder.layers.12.fc1\n",
      "decoder.layers.12.fc2\n",
      "decoder.layers.13.self_attn.k_proj\n",
      "decoder.layers.13.self_attn.v_proj\n",
      "decoder.layers.13.self_attn.q_proj\n",
      "decoder.layers.13.self_attn.out_proj\n",
      "decoder.layers.13.fc1\n",
      "decoder.layers.13.fc2\n",
      "decoder.layers.14.self_attn.k_proj\n",
      "decoder.layers.14.self_attn.v_proj\n",
      "decoder.layers.14.self_attn.q_proj\n",
      "decoder.layers.14.self_attn.out_proj\n",
      "decoder.layers.14.fc1\n",
      "decoder.layers.14.fc2\n",
      "decoder.layers.15.self_attn.k_proj\n",
      "decoder.layers.15.self_attn.v_proj\n",
      "decoder.layers.15.self_attn.q_proj\n",
      "decoder.layers.15.self_attn.out_proj\n",
      "decoder.layers.15.fc1\n",
      "decoder.layers.15.fc2\n",
      "decoder.layers.16.self_attn.k_proj\n",
      "decoder.layers.16.self_attn.v_proj\n",
      "decoder.layers.16.self_attn.q_proj\n",
      "decoder.layers.16.self_attn.out_proj\n",
      "decoder.layers.16.fc1\n",
      "decoder.layers.16.fc2\n",
      "decoder.layers.17.self_attn.k_proj\n",
      "decoder.layers.17.self_attn.v_proj\n",
      "decoder.layers.17.self_attn.q_proj\n",
      "decoder.layers.17.self_attn.out_proj\n",
      "decoder.layers.17.fc1\n",
      "decoder.layers.17.fc2\n",
      "decoder.layers.18.self_attn.k_proj\n",
      "decoder.layers.18.self_attn.v_proj\n",
      "decoder.layers.18.self_attn.q_proj\n",
      "decoder.layers.18.self_attn.out_proj\n",
      "decoder.layers.18.fc1\n",
      "decoder.layers.18.fc2\n",
      "decoder.layers.19.self_attn.k_proj\n",
      "decoder.layers.19.self_attn.v_proj\n",
      "decoder.layers.19.self_attn.q_proj\n",
      "decoder.layers.19.self_attn.out_proj\n",
      "decoder.layers.19.fc1\n",
      "decoder.layers.19.fc2\n",
      "decoder.layers.20.self_attn.k_proj\n",
      "decoder.layers.20.self_attn.v_proj\n",
      "decoder.layers.20.self_attn.q_proj\n",
      "decoder.layers.20.self_attn.out_proj\n",
      "decoder.layers.20.fc1\n",
      "decoder.layers.20.fc2\n",
      "decoder.layers.21.self_attn.k_proj\n",
      "decoder.layers.21.self_attn.v_proj\n",
      "decoder.layers.21.self_attn.q_proj\n",
      "decoder.layers.21.self_attn.out_proj\n",
      "decoder.layers.21.fc1\n",
      "decoder.layers.21.fc2\n",
      "decoder.layers.22.self_attn.k_proj\n",
      "decoder.layers.22.self_attn.v_proj\n",
      "decoder.layers.22.self_attn.q_proj\n",
      "decoder.layers.22.self_attn.out_proj\n",
      "decoder.layers.22.fc1\n",
      "decoder.layers.22.fc2\n",
      "decoder.layers.23.self_attn.k_proj\n",
      "decoder.layers.23.self_attn.v_proj\n",
      "decoder.layers.23.self_attn.q_proj\n",
      "decoder.layers.23.self_attn.out_proj\n",
      "decoder.layers.23.fc1\n",
      "decoder.layers.23.fc2\n"
     ]
    }
   ],
   "source": [
    "part_module_name = \"decoder.layers\"\n",
    "for name, module in model.named_modules():\n",
    "\tif isinstance(module, nn.Linear) and part_module_name in name:\n",
    "\t\tprint(name)"
   ]
  },
  {
   "cell_type": "code",
   "execution_count": 12,
   "metadata": {},
   "outputs": [
    {
     "name": "stdout",
     "output_type": "stream",
     "text": [
      "layers.0.self_attn.k_proj\n",
      "layers.0.self_attn.v_proj\n",
      "layers.0.self_attn.q_proj\n",
      "layers.0.self_attn.out_proj\n",
      "layers.0.fc1\n",
      "layers.0.fc2\n",
      "layers.1.self_attn.k_proj\n",
      "layers.1.self_attn.v_proj\n",
      "layers.1.self_attn.q_proj\n",
      "layers.1.self_attn.out_proj\n",
      "layers.1.fc1\n",
      "layers.1.fc2\n",
      "layers.2.self_attn.k_proj\n",
      "layers.2.self_attn.v_proj\n",
      "layers.2.self_attn.q_proj\n",
      "layers.2.self_attn.out_proj\n",
      "layers.2.fc1\n",
      "layers.2.fc2\n",
      "layers.3.self_attn.k_proj\n",
      "layers.3.self_attn.v_proj\n",
      "layers.3.self_attn.q_proj\n",
      "layers.3.self_attn.out_proj\n",
      "layers.3.fc1\n",
      "layers.3.fc2\n",
      "layers.4.self_attn.k_proj\n",
      "layers.4.self_attn.v_proj\n",
      "layers.4.self_attn.q_proj\n",
      "layers.4.self_attn.out_proj\n",
      "layers.4.fc1\n",
      "layers.4.fc2\n",
      "layers.5.self_attn.k_proj\n",
      "layers.5.self_attn.v_proj\n",
      "layers.5.self_attn.q_proj\n",
      "layers.5.self_attn.out_proj\n",
      "layers.5.fc1\n",
      "layers.5.fc2\n",
      "layers.6.self_attn.k_proj\n",
      "layers.6.self_attn.v_proj\n",
      "layers.6.self_attn.q_proj\n",
      "layers.6.self_attn.out_proj\n",
      "layers.6.fc1\n",
      "layers.6.fc2\n",
      "layers.7.self_attn.k_proj\n",
      "layers.7.self_attn.v_proj\n",
      "layers.7.self_attn.q_proj\n",
      "layers.7.self_attn.out_proj\n",
      "layers.7.fc1\n",
      "layers.7.fc2\n",
      "layers.8.self_attn.k_proj\n",
      "layers.8.self_attn.v_proj\n",
      "layers.8.self_attn.q_proj\n",
      "layers.8.self_attn.out_proj\n",
      "layers.8.fc1\n",
      "layers.8.fc2\n",
      "layers.9.self_attn.k_proj\n",
      "layers.9.self_attn.v_proj\n",
      "layers.9.self_attn.q_proj\n",
      "layers.9.self_attn.out_proj\n",
      "layers.9.fc1\n",
      "layers.9.fc2\n",
      "layers.10.self_attn.k_proj\n",
      "layers.10.self_attn.v_proj\n",
      "layers.10.self_attn.q_proj\n",
      "layers.10.self_attn.out_proj\n",
      "layers.10.fc1\n",
      "layers.10.fc2\n",
      "layers.11.self_attn.k_proj\n",
      "layers.11.self_attn.v_proj\n",
      "layers.11.self_attn.q_proj\n",
      "layers.11.self_attn.out_proj\n",
      "layers.11.fc1\n",
      "layers.11.fc2\n",
      "layers.12.self_attn.k_proj\n",
      "layers.12.self_attn.v_proj\n",
      "layers.12.self_attn.q_proj\n",
      "layers.12.self_attn.out_proj\n",
      "layers.12.fc1\n",
      "layers.12.fc2\n",
      "layers.13.self_attn.k_proj\n",
      "layers.13.self_attn.v_proj\n",
      "layers.13.self_attn.q_proj\n",
      "layers.13.self_attn.out_proj\n",
      "layers.13.fc1\n",
      "layers.13.fc2\n",
      "layers.14.self_attn.k_proj\n",
      "layers.14.self_attn.v_proj\n",
      "layers.14.self_attn.q_proj\n",
      "layers.14.self_attn.out_proj\n",
      "layers.14.fc1\n",
      "layers.14.fc2\n",
      "layers.15.self_attn.k_proj\n",
      "layers.15.self_attn.v_proj\n",
      "layers.15.self_attn.q_proj\n",
      "layers.15.self_attn.out_proj\n",
      "layers.15.fc1\n",
      "layers.15.fc2\n",
      "layers.16.self_attn.k_proj\n",
      "layers.16.self_attn.v_proj\n",
      "layers.16.self_attn.q_proj\n",
      "layers.16.self_attn.out_proj\n",
      "layers.16.fc1\n",
      "layers.16.fc2\n",
      "layers.17.self_attn.k_proj\n",
      "layers.17.self_attn.v_proj\n",
      "layers.17.self_attn.q_proj\n",
      "layers.17.self_attn.out_proj\n",
      "layers.17.fc1\n",
      "layers.17.fc2\n",
      "layers.18.self_attn.k_proj\n",
      "layers.18.self_attn.v_proj\n",
      "layers.18.self_attn.q_proj\n",
      "layers.18.self_attn.out_proj\n",
      "layers.18.fc1\n",
      "layers.18.fc2\n",
      "layers.19.self_attn.k_proj\n",
      "layers.19.self_attn.v_proj\n",
      "layers.19.self_attn.q_proj\n",
      "layers.19.self_attn.out_proj\n",
      "layers.19.fc1\n",
      "layers.19.fc2\n",
      "layers.20.self_attn.k_proj\n",
      "layers.20.self_attn.v_proj\n",
      "layers.20.self_attn.q_proj\n",
      "layers.20.self_attn.out_proj\n",
      "layers.20.fc1\n",
      "layers.20.fc2\n",
      "layers.21.self_attn.k_proj\n",
      "layers.21.self_attn.v_proj\n",
      "layers.21.self_attn.q_proj\n",
      "layers.21.self_attn.out_proj\n",
      "layers.21.fc1\n",
      "layers.21.fc2\n",
      "layers.22.self_attn.k_proj\n",
      "layers.22.self_attn.v_proj\n",
      "layers.22.self_attn.q_proj\n",
      "layers.22.self_attn.out_proj\n",
      "layers.22.fc1\n",
      "layers.22.fc2\n",
      "layers.23.self_attn.k_proj\n",
      "layers.23.self_attn.v_proj\n",
      "layers.23.self_attn.q_proj\n",
      "layers.23.self_attn.out_proj\n",
      "layers.23.fc1\n",
      "layers.23.fc2\n"
     ]
    }
   ],
   "source": [
    "part_module_name = \"layers.\"\n",
    "for name, module in model2.named_modules():\n",
    "\tif isinstance(module, nn.Linear) and part_module_name in name:\n",
    "\t\tprint(name)"
   ]
  },
  {
   "cell_type": "code",
   "execution_count": 9,
   "metadata": {},
   "outputs": [],
   "source": [
    "from transformers import AutoModelForCausalLM, AutoTokenizer\n",
    "path = \"facebook/xglm-4.5B\"\n",
    "model = AutoModelForCausalLM.from_pretrained(path)"
   ]
  },
  {
   "cell_type": "code",
   "execution_count": 2,
   "metadata": {},
   "outputs": [],
   "source": [
    "path = \"/home/kosenko/deepspeed/DeepSpeedExamples/applications/DeepSpeed-Chat/training/step1_supervised_finetuning/models/xglm-4.5B_ru_v4/epoch=0_step=119\"\n",
    "model = AutoModelForCausalLM.from_pretrained(path)"
   ]
  },
  {
   "cell_type": "code",
   "execution_count": 5,
   "metadata": {},
   "outputs": [],
   "source": [
    "tokenizer = AutoTokenizer.from_pretrained(path)"
   ]
  },
  {
   "cell_type": "code",
   "execution_count": 10,
   "metadata": {},
   "outputs": [
    {
     "data": {
      "text/plain": [
       "tensor([[     2,  16263,     13, 147972,  80077,   3587,    114,  16276,     28,\n",
       "         112546,     13, 147972,  80077,   3587,    114,  16276,     28,      2]])"
      ]
     },
     "execution_count": 10,
     "metadata": {},
     "output_type": "execute_result"
    }
   ],
   "source": [
    "model.generate(\n",
    "\ttokenizer(\"Human: Сколько пальцев у человека? Assistant:\", return_tensors='pt').input_ids\n",
    ")"
   ]
  },
  {
   "cell_type": "code",
   "execution_count": 11,
   "metadata": {},
   "outputs": [
    {
     "data": {
      "text/plain": [
       "['Human: Сколько пальцев у человека? Assistant: Сколько пальцев у человека?']"
      ]
     },
     "execution_count": 11,
     "metadata": {},
     "output_type": "execute_result"
    }
   ],
   "source": [
    "result = tokenizer.batch_decode(\n",
    "\t[[     2,  16263,     13, 147972,  80077,   3587,    114,  16276,     28,\n",
    "         112546,     13, 147972,  80077,   3587,    114,  16276,     28,      2]], skip_special_tokens=True, clean_up_tokenization_spaces=False\n",
    ")\n",
    "result"
   ]
  }
 ],
 "metadata": {
  "kernelspec": {
   "display_name": "base",
   "language": "python",
   "name": "python3"
  },
  "language_info": {
   "codemirror_mode": {
    "name": "ipython",
    "version": 3
   },
   "file_extension": ".py",
   "mimetype": "text/x-python",
   "name": "python",
   "nbconvert_exporter": "python",
   "pygments_lexer": "ipython3",
   "version": "3.10.9"
  },
  "orig_nbformat": 4
 },
 "nbformat": 4,
 "nbformat_minor": 2
}
